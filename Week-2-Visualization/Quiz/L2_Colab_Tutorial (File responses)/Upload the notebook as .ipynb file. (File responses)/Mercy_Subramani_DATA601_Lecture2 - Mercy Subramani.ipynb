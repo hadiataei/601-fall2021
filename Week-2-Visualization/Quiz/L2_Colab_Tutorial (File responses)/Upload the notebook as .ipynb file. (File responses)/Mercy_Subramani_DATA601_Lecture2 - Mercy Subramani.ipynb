{
 "cells": [
  {
   "cell_type": "code",
   "execution_count": 6,
   "id": "012cc9bf",
   "metadata": {},
   "outputs": [],
   "source": [
    "# import matplotlib\n",
    "import matplotlib.pyplot as plt"
   ]
  },
  {
   "cell_type": "code",
   "execution_count": 8,
   "id": "3656469a",
   "metadata": {},
   "outputs": [],
   "source": [
    "import pandas as pd\n",
    "\n",
    "nba_players = pd.read_csv('https://raw.githubusercontent.com/msaricaumbc/DS601_Fall21/main/Week02/data/all_seasons.csv', index_col = 0)\n",
    "\n",
    "height = nba_players['player_height']\n",
    "points = nba_players['pts']"
   ]
  },
  {
   "cell_type": "code",
   "execution_count": 9,
   "id": "53e13a6e",
   "metadata": {},
   "outputs": [
    {
     "data": {
      "text/plain": [
       "(array([1.800e+01, 1.000e+00, 1.900e+02, 1.251e+03, 1.468e+03, 3.014e+03,\n",
       "        3.712e+03, 1.882e+03, 1.380e+02, 2.600e+01]),\n",
       " array([160.02 , 167.132, 174.244, 181.356, 188.468, 195.58 , 202.692,\n",
       "        209.804, 216.916, 224.028, 231.14 ]),\n",
       " <BarContainer object of 10 artists>)"
      ]
     },
     "execution_count": 9,
     "metadata": {},
     "output_type": "execute_result"
    },
    {
     "data": {
      "image/png": "[encoded data removed]",
      "text/plain": [
       "<Figure size 432x288 with 1 Axes>"
      ]
     },
     "metadata": {
      "needs_background": "light"
     },
     "output_type": "display_data"
    }
   ],
   "source": [
    "plt.hist(nba_players.player_height)"
   ]
  },
  {
   "cell_type": "code",
   "execution_count": 10,
   "id": "42a3851d",
   "metadata": {},
   "outputs": [
    {
     "data": {
      "text/plain": [
       "(array([2999., 3300., 2162., 1461.,  841.,  544.,  229.,  131.,   29.,\n",
       "           4.]),\n",
       " array([ 0.  ,  3.61,  7.22, 10.83, 14.44, 18.05, 21.66, 25.27, 28.88,\n",
       "        32.49, 36.1 ]),\n",
       " <BarContainer object of 10 artists>)"
      ]
     },
     "execution_count": 10,
     "metadata": {},
     "output_type": "execute_result"
    },
    {
     "data": {
      "image/png": "[encoded data removed]",
      "text/plain": [
       "<Figure size 432x288 with 1 Axes>"
      ]
     },
     "metadata": {
      "needs_background": "light"
     },
     "output_type": "display_data"
    }
   ],
   "source": [
    "plt.hist(nba_players.pts)"
   ]
  },
  {
   "cell_type": "code",
   "execution_count": 11,
   "id": "7ee9d7bc",
   "metadata": {},
   "outputs": [
    {
     "data": {
      "image/png": "[encoded data removed]",
      "text/plain": [
       "<Figure size 432x288 with 1 Axes>"
      ]
     },
     "metadata": {
      "needs_background": "light"
     },
     "output_type": "display_data"
    }
   ],
   "source": [
    "import pandas as pd\n",
    "\n",
    "nba_players = pd.read_csv('https://raw.githubusercontent.com/msaricaumbc/DS601_Fall21/main/Week02/data/all_seasons.csv', index_col = 0)\n",
    "\n",
    "plt.scatter(nba_players.player_height, nba_players.pts)\n",
    "# change x-label\n",
    "plt.xlabel('Player Height')\n",
    "\n",
    "# change y-label\n",
    "plt.ylabel('points')\n",
    "\n",
    "# change title\n",
    "plt.title('NBA Player Height vs points')\n",
    "\n",
    "plt.draw()"
   ]
  },
  {
   "cell_type": "code",
   "execution_count": 14,
   "id": "a7a819ff",
   "metadata": {},
   "outputs": [],
   "source": [
    "bowling_data = pd.read_csv(\"https://raw.githubusercontent.com/msaricaumbc/DS601_Fall21/main/Week02/data/bowling_stats.csv\",\n",
    "                            header=None,\n",
    "                            names=['year','city','state','count1','count2'])\n",
    "def merge_columns(row):\n",
    "    if pd.isna(row['count2']):\n",
    "        return row['count1']\n",
    "    else:\n",
    "        return row['count1']*1000+row['count2']\n",
    "    \n",
    "bowling_data['total']=bowling_data.apply(merge_columns,axis=1)\n",
    "\n",
    "year = bowling_data['year']\n",
    "score = bowling_data['total']"
   ]
  },
  {
   "cell_type": "code",
   "execution_count": 15,
   "id": "42c84cd5",
   "metadata": {},
   "outputs": [
    {
     "ename": "AttributeError",
     "evalue": "'DataFrame' object has no attribute 'score'",
     "output_type": "error",
     "traceback": [
      "\u001b[1;31m---------------------------------------------------------------------------\u001b[0m",
      "\u001b[1;31mAttributeError\u001b[0m                            Traceback (most recent call last)",
      "\u001b[1;32m<ipython-input-15-e5d263a0145d>\u001b[0m in \u001b[0;36m<module>\u001b[1;34m\u001b[0m\n\u001b[0;32m      2\u001b[0m                             \u001b[0mheader\u001b[0m\u001b[1;33m=\u001b[0m\u001b[1;32mNone\u001b[0m\u001b[1;33m,\u001b[0m\u001b[1;33m\u001b[0m\u001b[1;33m\u001b[0m\u001b[0m\n\u001b[0;32m      3\u001b[0m                             names=['year','city','state','count1','count2'])\n\u001b[1;32m----> 4\u001b[1;33m \u001b[0mplt\u001b[0m\u001b[1;33m.\u001b[0m\u001b[0mscatter\u001b[0m\u001b[1;33m(\u001b[0m\u001b[0mbowling_data\u001b[0m\u001b[1;33m.\u001b[0m\u001b[0myear\u001b[0m\u001b[1;33m,\u001b[0m \u001b[0mbowling_data\u001b[0m\u001b[1;33m.\u001b[0m\u001b[0mscore\u001b[0m\u001b[1;33m)\u001b[0m\u001b[1;33m\u001b[0m\u001b[1;33m\u001b[0m\u001b[0m\n\u001b[0m\u001b[0;32m      5\u001b[0m \u001b[1;31m# change x-label\u001b[0m\u001b[1;33m\u001b[0m\u001b[1;33m\u001b[0m\u001b[1;33m\u001b[0m\u001b[0m\n\u001b[0;32m      6\u001b[0m \u001b[0mplt\u001b[0m\u001b[1;33m.\u001b[0m\u001b[0mxlabel\u001b[0m\u001b[1;33m(\u001b[0m\u001b[1;34m'year'\u001b[0m\u001b[1;33m)\u001b[0m\u001b[1;33m\u001b[0m\u001b[1;33m\u001b[0m\u001b[0m\n",
      "\u001b[1;32m~\\Anaconda\\lib\\site-packages\\pandas\\core\\generic.py\u001b[0m in \u001b[0;36m__getattr__\u001b[1;34m(self, name)\u001b[0m\n\u001b[0;32m   5463\u001b[0m             \u001b[1;32mif\u001b[0m \u001b[0mself\u001b[0m\u001b[1;33m.\u001b[0m\u001b[0m_info_axis\u001b[0m\u001b[1;33m.\u001b[0m\u001b[0m_can_hold_identifiers_and_holds_name\u001b[0m\u001b[1;33m(\u001b[0m\u001b[0mname\u001b[0m\u001b[1;33m)\u001b[0m\u001b[1;33m:\u001b[0m\u001b[1;33m\u001b[0m\u001b[1;33m\u001b[0m\u001b[0m\n\u001b[0;32m   5464\u001b[0m                 \u001b[1;32mreturn\u001b[0m \u001b[0mself\u001b[0m\u001b[1;33m[\u001b[0m\u001b[0mname\u001b[0m\u001b[1;33m]\u001b[0m\u001b[1;33m\u001b[0m\u001b[1;33m\u001b[0m\u001b[0m\n\u001b[1;32m-> 5465\u001b[1;33m             \u001b[1;32mreturn\u001b[0m \u001b[0mobject\u001b[0m\u001b[1;33m.\u001b[0m\u001b[0m__getattribute__\u001b[0m\u001b[1;33m(\u001b[0m\u001b[0mself\u001b[0m\u001b[1;33m,\u001b[0m \u001b[0mname\u001b[0m\u001b[1;33m)\u001b[0m\u001b[1;33m\u001b[0m\u001b[1;33m\u001b[0m\u001b[0m\n\u001b[0m\u001b[0;32m   5466\u001b[0m \u001b[1;33m\u001b[0m\u001b[0m\n\u001b[0;32m   5467\u001b[0m     \u001b[1;32mdef\u001b[0m \u001b[0m__setattr__\u001b[0m\u001b[1;33m(\u001b[0m\u001b[0mself\u001b[0m\u001b[1;33m,\u001b[0m \u001b[0mname\u001b[0m\u001b[1;33m:\u001b[0m \u001b[0mstr\u001b[0m\u001b[1;33m,\u001b[0m \u001b[0mvalue\u001b[0m\u001b[1;33m)\u001b[0m \u001b[1;33m->\u001b[0m \u001b[1;32mNone\u001b[0m\u001b[1;33m:\u001b[0m\u001b[1;33m\u001b[0m\u001b[1;33m\u001b[0m\u001b[0m\n",
      "\u001b[1;31mAttributeError\u001b[0m: 'DataFrame' object has no attribute 'score'"
     ]
    }
   ],
   "source": [
    "bowling_data = pd.read_csv(\"https://raw.githubusercontent.com/msaricaumbc/DS601_Fall21/main/Week02/data/bowling_stats.csv\",\n",
    "                            header=None,\n",
    "                            names=['year','city','state','count1','count2'])\n",
    "plt.scatter(bowling_data.year, bowling_data.score)\n",
    "# change x-label\n",
    "plt.xlabel('year')\n",
    "\n",
    "# change y-label\n",
    "plt.ylabel('total')\n",
    "\n",
    "# change title\n",
    "plt.title('year vs total')\n",
    "\n",
    "plt.draw()"
   ]
  },
  {
   "cell_type": "code",
   "execution_count": null,
   "id": "1dfef68f",
   "metadata": {},
   "outputs": [],
   "source": []
  }
 ],
 "metadata": {
  "kernelspec": {
   "display_name": "Python 3",
   "language": "python",
   "name": "python3"
  },
  "language_info": {
   "codemirror_mode": {
    "name": "ipython",
    "version": 3
   },
   "file_extension": ".py",
   "mimetype": "text/x-python",
   "name": "python",
   "nbconvert_exporter": "python",
   "pygments_lexer": "ipython3",
   "version": "3.8.8"
  }
 },
 "nbformat": 4,
 "nbformat_minor": 5
}
