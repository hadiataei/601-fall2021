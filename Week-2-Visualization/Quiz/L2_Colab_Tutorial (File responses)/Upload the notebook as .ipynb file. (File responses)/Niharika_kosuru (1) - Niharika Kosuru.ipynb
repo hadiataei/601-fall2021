{
  "nbformat": 4,
  "nbformat_minor": 0,
  "metadata": {
    "colab": {
      "name": "Niharika_kosuru.ipynb",
      "provenance": [],
      "collapsed_sections": []
    },
    "kernelspec": {
      "display_name": "Python 3",
      "language": "python",
      "name": "python3"
    },
    "language_info": {
      "codemirror_mode": {
        "name": "ipython",
        "version": 3
      },
      "file_extension": ".py",
      "mimetype": "text/x-python",
      "name": "python",
      "nbconvert_exporter": "python",
      "pygments_lexer": "ipython3",
      "version": "3.8.8"
    },
    "toc": {
      "base_numbering": 1,
      "nav_menu": {},
      "number_sections": false,
      "sideBar": true,
      "skip_h1_title": false,
      "title_cell": "Table of Contents",
      "title_sidebar": "Contents",
      "toc_cell": false,
      "toc_position": {
        "height": "calc(100% - 180px)",
        "left": "10px",
        "top": "150px",
        "width": "204px"
      },
      "toc_section_display": true,
      "toc_window_display": true
    }
  },
  "cells": [
    {
      "cell_type": "markdown",
      "metadata": {
        "id": "UZrZbGY9-krS"
      },
      "source": [
        "# Part-IV\n",
        "\n",
        "## Lab Part1\n",
        "\n",
        "For your lab work, always create a ipynb and name it as last_name_<labnumber>(i.e. L2).ipynb and must submit on google form provided.\n",
        "\n",
        "Please choose appropriate graph and visualize the followings with correct/appropriate labels\n",
        "\n",
        "* Height only\n",
        "* Points only\n",
        "* Height vs Points"
      ]
    },
    {
      "cell_type": "code",
      "metadata": {
        "id": "fbHEd0mFoKEE"
      },
      "source": [
        "import pandas as pd\n",
        "\n",
        "nba_players = pd.read_csv('https://raw.githubusercontent.com/msaricaumbc/DS601_Fall21/main/Week02/data/all_seasons.csv', index_col = 0)\n",
        "\n",
        "height = nba_players['player_height']\n",
        "points = nba_players['pts']"
      ],
      "execution_count": null,
      "outputs": []
    },
    {
      "cell_type": "code",
      "metadata": {
        "id": "zcnxDO8coKEE",
        "colab": {
          "base_uri": "https://localhost:8080/",
          "height": 366
        },
        "outputId": "2b3887e9-0a46-4af8-8fb6-7d61aa153d23"
      },
      "source": [
        "import matplotlib.pyplot as plt\n",
        "plt.title(\"HEIGHTS\")\n",
        "plt.hist(height)\n",
        "\n"
      ],
      "execution_count": null,
      "outputs": [
        {
          "output_type": "execute_result",
          "data": {
            "text/plain": [
              "(array([1.800e+01, 1.000e+00, 1.900e+02, 1.251e+03, 1.468e+03, 3.014e+03,\n",
              "        3.712e+03, 1.882e+03, 1.380e+02, 2.600e+01]),\n",
              " array([160.02 , 167.132, 174.244, 181.356, 188.468, 195.58 , 202.692,\n",
              "        209.804, 216.916, 224.028, 231.14 ]),\n",
              " <a list of 10 Patch objects>)"
            ]
          },
          "metadata": {},
          "execution_count": 4
        },
        {
          "output_type": "display_data",
          "data": {
            "image/png": "[encoded data removed]",
            "text/plain": [
              "<Figure size 432x288 with 1 Axes>"
            ]
          },
          "metadata": {
            "needs_background": "light"
          }
        }
      ]
    },
    {
      "cell_type": "code",
      "metadata": {
        "id": "T4ZnlyWtoKEF",
        "colab": {
          "base_uri": "https://localhost:8080/",
          "height": 366
        },
        "outputId": "5d997f2c-3077-4cd3-fb37-21f3e1f63b12"
      },
      "source": [
        "import matplotlib.pyplot as plt\n",
        "plt.title(\"POINTS\")\n",
        "plt.hist(points)"
      ],
      "execution_count": null,
      "outputs": [
        {
          "output_type": "execute_result",
          "data": {
            "text/plain": [
              "(array([2999., 3300., 2162., 1461.,  841.,  544.,  229.,  131.,   29.,\n",
              "           4.]),\n",
              " array([ 0.  ,  3.61,  7.22, 10.83, 14.44, 18.05, 21.66, 25.27, 28.88,\n",
              "        32.49, 36.1 ]),\n",
              " <a list of 10 Patch objects>)"
            ]
          },
          "metadata": {},
          "execution_count": 7
        },
        {
          "output_type": "display_data",
          "data": {
            "image/png": "[encoded data removed]",
            "text/plain": [
              "<Figure size 432x288 with 1 Axes>"
            ]
          },
          "metadata": {
            "needs_background": "light"
          }
        }
      ]
    },
    {
      "cell_type": "code",
      "metadata": {
        "id": "IvJSBJERoKEF",
        "colab": {
          "base_uri": "https://localhost:8080/",
          "height": 312
        },
        "outputId": "857ff26d-04d5-4e09-d912-2f31d1086217"
      },
      "source": [
        "import matplotlib.pyplot as plt\n",
        "plt.ylabel(\"height\")\n",
        "plt.xlabel(\"points\")\n",
        "plt.title(\"HEIGHTS VS POINTS\")\n",
        "plt.scatter(height , points)\n"
      ],
      "execution_count": null,
      "outputs": [
        {
          "output_type": "execute_result",
          "data": {
            "text/plain": [
              "<matplotlib.collections.PathCollection at 0x7f7e91b26290>"
            ]
          },
          "metadata": {},
          "execution_count": 12
        },
        {
          "output_type": "display_data",
          "data": {
            "image/png": "[encoded data removed]",
            "text/plain": [
              "<Figure size 432x288 with 1 Axes>"
            ]
          },
          "metadata": {
            "needs_background": "light"
          }
        }
      ]
    },
    {
      "cell_type": "markdown",
      "metadata": {
        "id": "b6dbJuBGoKEF"
      },
      "source": [
        "## Lab Part2\n",
        "Please visualize year vs score with correct/appropriate labels"
      ]
    },
    {
      "cell_type": "code",
      "metadata": {
        "id": "Muuh_SnboKEF"
      },
      "source": [
        "bowling_data = pd.read_csv(\"https://raw.githubusercontent.com/msaricaumbc/DS601_Fall21/main/Week02/data/bowling_stats.csv\",\n",
        "                            header=None,\n",
        "                            names=['year','city','state','count1','count2'])\n",
        "def merge_columns(row):\n",
        "    if pd.isna(row['count2']):\n",
        "        return row['count1']\n",
        "    else:\n",
        "        return row['count1']*1000+row['count2']\n",
        "    \n",
        "bowling_data['total']=bowling_data.apply(merge_columns,axis=1)\n",
        "\n",
        "year = bowling_data['year']\n",
        "score = bowling_data['total']"
      ],
      "execution_count": null,
      "outputs": []
    },
    {
      "cell_type": "code",
      "metadata": {
        "id": "HN2UGvc7oKEG",
        "colab": {
          "base_uri": "https://localhost:8080/",
          "height": 282
        },
        "outputId": "d0a85c67-2384-4c05-f295-fe60989fadbe"
      },
      "source": [
        "import matplotlib.pyplot as plt\n",
        "plt.scatter(year , score)"
      ],
      "execution_count": null,
      "outputs": [
        {
          "output_type": "execute_result",
          "data": {
            "text/plain": [
              "<matplotlib.collections.PathCollection at 0x7f7e9177bf50>"
            ]
          },
          "metadata": {},
          "execution_count": 14
        },
        {
          "output_type": "display_data",
          "data": {
            "image/png": "[encoded data removed]",
            "text/plain": [
              "<Figure size 432x288 with 1 Axes>"
            ]
          },
          "metadata": {
            "needs_background": "light"
          }
        }
      ]
    },
    {
      "cell_type": "markdown",
      "metadata": {
        "id": "UD1qlPo5pImo"
      },
      "source": [
        ""
      ]
    }
  ]
}