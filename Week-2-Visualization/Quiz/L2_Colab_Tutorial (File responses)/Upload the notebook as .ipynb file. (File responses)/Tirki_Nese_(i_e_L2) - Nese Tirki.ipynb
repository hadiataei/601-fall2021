{
  "nbformat": 4,
  "nbformat_minor": 0,
  "metadata": {
    "colab": {
      "name": "Tirki_Nese_(i.e. L2).ipynb",
      "provenance": []
    },
    "kernelspec": {
      "name": "python3",
      "display_name": "Python 3"
    },
    "language_info": {
      "name": "python"
    }
  },
  "cells": [
    {
      "cell_type": "code",
      "metadata": {
        "id": "XfMUmYjfsJj1"
      },
      "source": [
        "import pandas as pd\n",
        "\n",
        "nba_players = pd.read_csv('https://raw.githubusercontent.com/msaricaumbc/DS601_Fall21/main/Week02/data/all_seasons.csv', index_col = 0)\n"
      ],
      "execution_count": 17,
      "outputs": []
    },
    {
      "cell_type": "code",
      "metadata": {
        "colab": {
          "base_uri": "https://localhost:8080/"
        },
        "id": "_EpWADbRsZJF",
        "outputId": "5039fa9f-6e62-401f-92af-652cb62c152c"
      },
      "source": [
        "nba_players.columns"
      ],
      "execution_count": 24,
      "outputs": [
        {
          "output_type": "execute_result",
          "data": {
            "text/plain": [
              "Index(['player_name', 'team_abbreviation', 'age', 'player_height',\n",
              "       'player_weight', 'college', 'country', 'draft_year', 'draft_round',\n",
              "       'draft_number', 'gp', 'pts', 'reb', 'ast', 'net_rating', 'oreb_pct',\n",
              "       'dreb_pct', 'usg_pct', 'ts_pct', 'ast_pct', 'season'],\n",
              "      dtype='object')"
            ]
          },
          "metadata": {},
          "execution_count": 24
        }
      ]
    },
    {
      "cell_type": "code",
      "metadata": {
        "colab": {
          "base_uri": "https://localhost:8080/",
          "height": 295
        },
        "id": "HG9kJRYx1Ob_",
        "outputId": "8df6e0ec-a72e-4a2b-8e5f-56a8d4d325de"
      },
      "source": [
        "# import matplotlib\n",
        "import matplotlib.pyplot as plt\n",
        "\n",
        "plt.scatter(nba_players.player_height, nba_players.pts)\n",
        "# change x-label\n",
        "plt.xlabel('Player Height')\n",
        "\n",
        "# change y-label\n",
        "plt.ylabel('Points')\n",
        "\n",
        "# change title\n",
        "plt.title('NBA Player Height vs Points')\n",
        "\n",
        "plt.draw()"
      ],
      "execution_count": 56,
      "outputs": [
        {
          "output_type": "display_data",
          "data": {
            "image/png": "[encoded data removed]",
            "text/plain": [
              "<Figure size 432x288 with 1 Axes>"
            ]
          },
          "metadata": {
            "needs_background": "light"
          }
        }
      ]
    },
    {
      "cell_type": "code",
      "metadata": {
        "colab": {
          "base_uri": "https://localhost:8080/"
        },
        "id": "OS4iQGO82VtR",
        "outputId": "83bf4d4f-48d7-4143-b0c5-6a83876194d2"
      },
      "source": [
        "nba_players.columns"
      ],
      "execution_count": 28,
      "outputs": [
        {
          "output_type": "execute_result",
          "data": {
            "text/plain": [
              "Index(['player_name', 'team_abbreviation', 'age', 'player_height',\n",
              "       'player_weight', 'college', 'country', 'draft_year', 'draft_round',\n",
              "       'draft_number', 'gp', 'pts', 'reb', 'ast', 'net_rating', 'oreb_pct',\n",
              "       'dreb_pct', 'usg_pct', 'ts_pct', 'ast_pct', 'season'],\n",
              "      dtype='object')"
            ]
          },
          "metadata": {},
          "execution_count": 28
        }
      ]
    },
    {
      "cell_type": "code",
      "metadata": {
        "colab": {
          "base_uri": "https://localhost:8080/",
          "height": 295
        },
        "id": "nMg9nq2b3c-2",
        "outputId": "5877c536-469f-4973-8e5b-0074ac80b940"
      },
      "source": [
        "# import matplotlib\n",
        "import matplotlib.pyplot as plt\n",
        "\n",
        "plt.hist(nba_players.pts)\n",
        "\n",
        "# change x-label\n",
        "plt.xlabel('Points')\n",
        "\n",
        "# change y-label\n",
        "plt.ylabel('Player')\n",
        "\n",
        "# change title\n",
        "plt.title('Points only')\n",
        "\n",
        "plt.draw()"
      ],
      "execution_count": 54,
      "outputs": [
        {
          "output_type": "display_data",
          "data": {
            "image/png": "[encoded data removed]",
            "text/plain": [
              "<Figure size 432x288 with 1 Axes>"
            ]
          },
          "metadata": {
            "needs_background": "light"
          }
        }
      ]
    },
    {
      "cell_type": "code",
      "metadata": {
        "colab": {
          "base_uri": "https://localhost:8080/"
        },
        "id": "ELZNC-qD4pnL",
        "outputId": "cba08c8d-9ea2-4d5f-d094-ea12cbee94ae"
      },
      "source": [
        "nba_players.columns"
      ],
      "execution_count": 37,
      "outputs": [
        {
          "output_type": "execute_result",
          "data": {
            "text/plain": [
              "Index(['player_name', 'team_abbreviation', 'age', 'player_height',\n",
              "       'player_weight', 'college', 'country', 'draft_year', 'draft_round',\n",
              "       'draft_number', 'gp', 'pts', 'reb', 'ast', 'net_rating', 'oreb_pct',\n",
              "       'dreb_pct', 'usg_pct', 'ts_pct', 'ast_pct', 'season'],\n",
              "      dtype='object')"
            ]
          },
          "metadata": {},
          "execution_count": 37
        }
      ]
    },
    {
      "cell_type": "code",
      "metadata": {
        "colab": {
          "base_uri": "https://localhost:8080/",
          "height": 295
        },
        "id": "0LlWn5uS5z6U",
        "outputId": "3421da43-69b2-40ec-fa01-0a1a056f86e5"
      },
      "source": [
        "# import matplotlib\n",
        "import matplotlib.pyplot as plt\n",
        "\n",
        "plt.hist(nba_players.player_height)\n",
        "\n",
        "# change x-label\n",
        "plt.xlabel('Height')\n",
        "\n",
        "# change y-label\n",
        "plt.ylabel('Player')\n",
        "\n",
        "# change title\n",
        "plt.title('Height only')\n",
        "\n",
        "plt.draw()\n"
      ],
      "execution_count": 52,
      "outputs": [
        {
          "output_type": "display_data",
          "data": {
            "image/png": "[encoded data removed]",
            "text/plain": [
              "<Figure size 432x288 with 1 Axes>"
            ]
          },
          "metadata": {
            "needs_background": "light"
          }
        }
      ]
    },
    {
      "cell_type": "code",
      "metadata": {
        "id": "j_Z0d55Q-YcX"
      },
      "source": [
        "bowling_data = pd.read_csv(\"https://raw.githubusercontent.com/msaricaumbc/DS601_Fall21/main/Week02/data/bowling_stats.csv\",\n",
        "                            header=None,\n",
        "                            names=['year','city','state','count1','count2'])\n",
        "def merge_columns(row):\n",
        "    if pd.isna(row['count2']):\n",
        "        return row['count1']\n",
        "    else:\n",
        "        return row['count1']*1000+row['count2']\n",
        "    \n",
        "bowling_data['total']=bowling_data.apply(merge_columns,axis=1)\n",
        "\n",
        "year = bowling_data['year']\n",
        "score = bowling_data['total']"
      ],
      "execution_count": 45,
      "outputs": []
    },
    {
      "cell_type": "code",
      "metadata": {
        "colab": {
          "base_uri": "https://localhost:8080/"
        },
        "id": "xvhXFOdY_9iA",
        "outputId": "0423a453-e28d-4bb9-f27a-a691ef45a83a"
      },
      "source": [
        "bowling_data.columns"
      ],
      "execution_count": 48,
      "outputs": [
        {
          "output_type": "execute_result",
          "data": {
            "text/plain": [
              "Index(['year', 'city', 'state', 'count1', 'count2', 'total'], dtype='object')"
            ]
          },
          "metadata": {},
          "execution_count": 48
        }
      ]
    },
    {
      "cell_type": "code",
      "metadata": {
        "colab": {
          "base_uri": "https://localhost:8080/",
          "height": 295
        },
        "id": "dBaoz6U2-xmP",
        "outputId": "0f0534a1-895a-43fe-e4a2-6726d6cd5e33"
      },
      "source": [
        "plt.scatter(bowling_data.count1, bowling_data.count2)\n",
        "# change x-label\n",
        "plt.xlabel('Year')\n",
        "\n",
        "# change y-label\n",
        "plt.ylabel('Score')\n",
        "\n",
        "# change title\n",
        "plt.title('Year Vs Score')\n",
        "\n",
        "plt.draw()"
      ],
      "execution_count": 49,
      "outputs": [
        {
          "output_type": "display_data",
          "data": {
            "image/png": "[encoded data removed]",
            "text/plain": [
              "<Figure size 432x288 with 1 Axes>"
            ]
          },
          "metadata": {
            "needs_background": "light"
          }
        }
      ]
    }
  ]
}