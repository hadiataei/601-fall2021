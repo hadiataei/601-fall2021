{
  "nbformat": 4,
  "nbformat_minor": 5,
  "metadata": {
    "kernelspec": {
      "display_name": "Python 3",
      "language": "python",
      "name": "python3"
    },
    "language_info": {
      "codemirror_mode": {
        "name": "ipython",
        "version": 3
      },
      "file_extension": ".py",
      "mimetype": "text/x-python",
      "name": "python",
      "nbconvert_exporter": "python",
      "pygments_lexer": "ipython3",
      "version": "3.8.8"
    },
    "toc": {
      "base_numbering": 1,
      "nav_menu": {},
      "number_sections": true,
      "sideBar": true,
      "skip_h1_title": false,
      "title_cell": "Table of Contents",
      "title_sidebar": "Contents",
      "toc_cell": false,
      "toc_position": {},
      "toc_section_display": true,
      "toc_window_display": false
    },
    "colab": {
      "name": "Colleen_Boarman_HW2.ipynb",
      "provenance": [],
      "collapsed_sections": []
    }
  },
  "cells": [
    {
      "cell_type": "markdown",
      "metadata": {
        "id": "1954ba6f"
      },
      "source": [
        "## Homework 2\n",
        "\n",
        "Please complete the functions below. These functions are for to simulate a fair and a biased die. \n",
        "\n",
        "The biased die has probabilities {0.25, 0.15, 0.15, 0.15, 0.15, 0.15}.\n",
        "\n",
        "Create 2 visualizations that shows outcomes of multiple rolls of a fair die and biased die. \n",
        "* Visualization for fair die\n",
        "* Visualization for biased die\n",
        "\n",
        "Repeat the process programatically and take the mean to create a new list. This list will be used to compare means of biased & unbiased dice. \n",
        "* Create a historgram showing means of biased & unbiased die\n",
        "\n",
        "* Use subcharts\n",
        "* All visualizations must have appropriate titles.\n",
        "* There are 3 visualization and expected format is \n",
        "```\n",
        " [V1] [V2]\n",
        " [   V3  ]\n",
        " ```"
      ],
      "id": "1954ba6f"
    },
    {
      "cell_type": "code",
      "metadata": {
        "id": "903cec24",
        "colab": {
          "base_uri": "https://localhost:8080/",
          "height": 636
        },
        "outputId": "db19cd23-419c-4f29-aecf-ce6f4e1b06d8"
      },
      "source": [
        "      ##Answer Cell \n",
        "##Code for Fair Die Simulation Q1\n",
        "import matplotlib.pyplot as plt\n",
        "import random \n",
        "import numpy as np\n",
        "options=[1,2,3,4,5,6]\n",
        "my_list2 = random.choices(options, k=500)\n",
        "print(my_list2)\n",
        "def average(my_list2):\n",
        "  return sum(my_list2) / len(my_list2)\n",
        "print(average(my_list2))\n",
        "\n",
        "value_counts = [my_list2.count(1), my_list2.count(2), my_list2.count(3), my_list2.count(4), my_list2.count(5), my_list2.count(6)]\n",
        "print(value_counts)\n",
        "\n",
        "## Code for Bias Die simulation Q2\n",
        "import matplotlib.pyplot as plt\n",
        "import random \n",
        "import numpy as np\n",
        "options=[1,2,3,4,5,6]\n",
        "my_list = random.choices(options, weights=[0.25, 0.15, 0.15, 0.15, 0.15, 0.15], k=500)\n",
        "print(my_list)\n",
        "def average(my_list):\n",
        "  return sum(my_list) / len(my_list)\n",
        "print(average(my_list))\n",
        "\n",
        "biased_value_counts = [my_list.count(1), my_list.count(2), my_list.count(3), my_list.count(4), my_list.count(5), my_list.count(6)]\n",
        "print(biased_value_counts)\n",
        "\n",
        "##Histogram Construction\n",
        "##Producing 10000 averages from 500 Bias Die Tosses      ## Histogram is not graphing accurately, unable to figure out how to convert output from for statement into a new list\n",
        "import matplotlib.pyplot as plt\n",
        "import random \n",
        "import numpy as np\n",
        "options=[1,2,3,4,5,6]\n",
        "for x in range(10000):\n",
        "  my_list = random.choices(options, weights=[0.25, 0.15, 0.15, 0.15, 0.15, 0.15], k=500)\n",
        "  def average(my_list):\n",
        "    return sum(my_list) / len(my_list)\n",
        "  \n",
        "\n",
        "##Producing 10000 averages from 500 Fair Die tosses      \n",
        "import matplotlib.pyplot as plt\n",
        "import random \n",
        "import numpy as np\n",
        "options=[1,2,3,4,5,6]\n",
        "for x in range(10000):\n",
        "  my_list2 = random.choices(options, k=500)\n",
        "  def average(my_list2):\n",
        "    return sum(my_list2) / len(my_list2)\n",
        "\n",
        "## Code for subplots and figure\n",
        "plt.figure()\n",
        "plt.subplot(2,2,1)                         ## subplot 1 fair die bar graph, set to position 1\n",
        "plt.bar(['1','2','3','4','5','6'], value_counts)   \n",
        "width = 0.5      \n",
        "plt.ylabel('Frequency')\n",
        "plt.xlabel('Number shown on die')\n",
        "plt.title('Fair Die Simulation')\n",
        "plt.axis([-1,6,0,100])\n",
        "plt.show()\n",
        "plt.subplot(2,2,2)                          ##subplot 2 bias die bar graph, index set to position 2, unsure why plot is not taking position 2\n",
        "plt.bar(['1','2','3','4','5','6'], biased_value_counts, color=['red'])   \n",
        "width = 0.5      \n",
        "plt.ylabel('Frequency')\n",
        "plt.xlabel('Number shown on die')\n",
        "plt.title('Biased Die Simulation')\n",
        "plt.axis([-1,6,0,150])\n",
        "plt.show()\n",
        "plt.subplot(2,2,(3,4))                      ##subplot 3 histogram comparing simulated means, set to position 3 and 4\n",
        "plt.hist([average(my_list2),average(my_list)], bins=10, range=(3.0,3.6))\n",
        "plt.title('Comparison of Means of 10000 Simulation of Fair and Biased Die')\n",
        "plt.ylabel('Frequency')\n",
        "plt.xlabel('Average of 500 Dice Rolls')"
      ],
      "id": "903cec24",
      "execution_count": 114,
      "outputs": [
        {
          "output_type": "stream",
          "name": "stdout",
          "text": [
            "[6, 4, 5, 3, 5, 1, 3, 4, 6, 2, 1, 2, 2, 4, 2, 5, 5, 2, 3, 5, 3, 5, 6, 1, 5, 2, 1, 1, 4, 2, 2, 2, 6, 3, 5, 3, 6, 3, 6, 5, 1, 2, 5, 5, 5, 4, 3, 3, 6, 1, 2, 6, 4, 6, 2, 4, 2, 2, 4, 2, 3, 6, 4, 4, 1, 3, 6, 4, 1, 6, 6, 4, 2, 4, 4, 2, 4, 2, 5, 2, 5, 4, 2, 4, 5, 1, 6, 1, 1, 6, 6, 3, 5, 5, 3, 5, 5, 3, 1, 1, 2, 2, 2, 5, 4, 4, 6, 3, 6, 4, 5, 2, 2, 1, 1, 5, 4, 3, 1, 3, 3, 6, 2, 2, 6, 1, 3, 6, 5, 5, 6, 1, 4, 1, 1, 3, 1, 2, 1, 3, 2, 2, 1, 6, 6, 2, 5, 4, 3, 1, 2, 2, 1, 1, 6, 5, 2, 3, 1, 6, 4, 2, 6, 5, 6, 5, 4, 6, 5, 4, 1, 2, 1, 6, 5, 1, 4, 4, 3, 5, 1, 6, 4, 4, 5, 5, 2, 1, 5, 2, 2, 5, 5, 4, 6, 2, 5, 3, 2, 4, 5, 4, 2, 5, 4, 6, 1, 5, 6, 3, 6, 5, 4, 3, 5, 2, 1, 2, 6, 6, 3, 1, 6, 4, 6, 6, 5, 6, 2, 4, 4, 2, 6, 2, 2, 1, 3, 2, 4, 3, 3, 4, 2, 3, 1, 6, 1, 2, 4, 2, 3, 4, 6, 5, 4, 5, 2, 2, 2, 4, 4, 3, 5, 3, 4, 1, 6, 2, 1, 4, 6, 2, 2, 1, 1, 6, 6, 5, 5, 1, 5, 6, 6, 2, 3, 6, 1, 6, 2, 4, 1, 1, 4, 4, 5, 5, 1, 2, 3, 5, 4, 5, 1, 3, 2, 1, 4, 6, 2, 6, 1, 2, 3, 1, 4, 5, 5, 3, 6, 2, 1, 6, 5, 3, 4, 6, 4, 5, 5, 6, 6, 2, 1, 6, 3, 3, 1, 4, 3, 6, 4, 5, 1, 1, 2, 3, 3, 6, 5, 5, 6, 4, 3, 3, 4, 2, 2, 2, 2, 3, 4, 4, 6, 3, 4, 1, 5, 4, 6, 3, 3, 6, 2, 5, 4, 1, 2, 4, 2, 2, 6, 2, 2, 1, 2, 5, 5, 6, 2, 5, 2, 4, 6, 1, 1, 2, 2, 3, 1, 5, 1, 4, 6, 3, 6, 1, 6, 5, 1, 6, 6, 6, 1, 5, 2, 4, 3, 3, 3, 6, 3, 1, 4, 6, 3, 3, 1, 4, 2, 3, 5, 1, 5, 3, 1, 6, 4, 5, 4, 6, 4, 5, 1, 4, 1, 1, 4, 1, 5, 4, 4, 4, 1, 2, 3, 4, 4, 6, 2, 3, 5, 2, 2, 2, 2, 4, 1, 3, 4, 1, 1, 2, 2, 2, 6, 3, 3, 5, 5, 1, 2, 3, 3, 5, 6, 6, 6, 6, 4, 1, 1, 3, 3, 3, 4, 5, 4, 1, 3, 3]\n",
            "3.476\n",
            "[83, 94, 74, 85, 79, 85]\n",
            "[6, 4, 4, 6, 3, 3, 5, 1, 1, 1, 1, 3, 1, 1, 5, 1, 6, 2, 5, 6, 1, 1, 4, 5, 1, 2, 5, 1, 2, 5, 3, 6, 4, 4, 6, 2, 6, 3, 2, 1, 4, 6, 1, 1, 1, 1, 5, 4, 5, 1, 1, 3, 4, 6, 6, 1, 5, 2, 1, 4, 6, 1, 4, 1, 1, 4, 1, 6, 5, 5, 1, 3, 2, 3, 1, 1, 4, 1, 1, 6, 1, 5, 6, 1, 2, 3, 4, 5, 2, 4, 3, 1, 5, 6, 1, 1, 5, 2, 4, 3, 4, 2, 3, 6, 1, 6, 5, 6, 1, 3, 4, 6, 4, 4, 3, 4, 5, 6, 4, 3, 5, 6, 1, 5, 1, 4, 6, 5, 2, 6, 4, 5, 2, 1, 4, 4, 4, 4, 1, 5, 2, 2, 6, 1, 2, 3, 1, 4, 5, 5, 1, 2, 6, 6, 6, 3, 1, 4, 5, 4, 5, 1, 6, 1, 3, 3, 1, 4, 5, 2, 6, 4, 4, 6, 2, 4, 6, 1, 5, 3, 4, 3, 6, 4, 4, 1, 4, 5, 3, 3, 1, 5, 1, 2, 1, 5, 3, 1, 6, 3, 1, 3, 3, 4, 4, 2, 3, 2, 6, 2, 3, 6, 6, 5, 1, 1, 3, 1, 3, 2, 1, 3, 2, 6, 1, 3, 3, 6, 5, 6, 4, 3, 1, 1, 2, 6, 1, 2, 1, 6, 3, 3, 3, 3, 3, 1, 6, 6, 4, 2, 1, 4, 1, 2, 5, 6, 6, 1, 6, 6, 1, 3, 4, 1, 5, 4, 6, 1, 6, 4, 3, 5, 2, 6, 1, 5, 3, 1, 2, 2, 6, 2, 4, 2, 1, 2, 1, 6, 3, 4, 3, 1, 5, 1, 5, 1, 4, 3, 5, 2, 5, 4, 5, 2, 2, 5, 3, 2, 6, 5, 6, 2, 4, 6, 4, 4, 4, 1, 2, 1, 1, 5, 5, 1, 5, 1, 2, 4, 2, 2, 6, 3, 4, 1, 2, 1, 3, 3, 6, 6, 2, 3, 1, 5, 5, 3, 1, 5, 5, 5, 2, 1, 1, 6, 6, 3, 4, 1, 4, 3, 3, 4, 4, 2, 1, 5, 5, 1, 2, 1, 4, 5, 6, 1, 1, 4, 3, 4, 4, 4, 5, 1, 2, 2, 5, 6, 6, 2, 6, 1, 1, 5, 2, 1, 5, 4, 3, 1, 5, 4, 4, 4, 1, 3, 1, 1, 1, 3, 3, 1, 6, 4, 6, 2, 5, 5, 6, 2, 2, 2, 5, 3, 3, 1, 3, 5, 2, 5, 3, 4, 6, 6, 2, 3, 5, 3, 4, 6, 6, 3, 3, 1, 5, 5, 3, 4, 2, 1, 3, 1, 2, 3, 6, 5, 6, 6, 6, 3, 1, 4, 2, 5, 3, 5, 3, 2, 1, 5, 3, 5, 3, 5, 5, 5, 3, 1, 3, 6, 1, 6, 2, 1, 4, 1, 1, 6, 2, 2, 4, 2, 6, 6, 4, 3, 1, 2, 4, 3, 6, 3]\n",
            "3.346\n",
            "[116, 68, 81, 78, 76, 81]\n"
          ]
        },
        {
          "output_type": "display_data",
          "data": {
            "image/png": "[encoded data removed]",
            "text/plain": [
              "<Figure size 432x288 with 1 Axes>"
            ]
          },
          "metadata": {
            "needs_background": "light"
          }
        },
        {
          "output_type": "display_data",
          "data": {
            "image/png": "[encoded data removed]",
            "text/plain": [
              "<Figure size 432x288 with 1 Axes>"
            ]
          },
          "metadata": {
            "needs_background": "light"
          }
        },
        {
          "output_type": "execute_result",
          "data": {
            "text/plain": [
              "Text(0.5, 0, 'Average of 500 Dice Rolls')"
            ]
          },
          "metadata": {},
          "execution_count": 114
        },
        {
          "output_type": "display_data",
          "data": {
            "image/png": "[encoded data removed]",
            "text/plain": [
              "<Figure size 432x288 with 1 Axes>"
            ]
          },
          "metadata": {
            "needs_background": "light"
          }
        }
      ]
    },
    {
      "cell_type": "code",
      "metadata": {
        "id": "c163cff2"
      },
      "source": [
        "biased = biased_die_simuations(trial_count)\n",
        "fair = fair_die_simulation(trial_count)\n",
        "\n",
        "# biased_mean_list = ...\n",
        "# unbiased_mean_list = ..."
      ],
      "id": "c163cff2",
      "execution_count": null,
      "outputs": []
    },
    {
      "cell_type": "code",
      "metadata": {
        "id": "c1af0dbd",
        "colab": {
          "base_uri": "https://localhost:8080/"
        },
        "outputId": "2b943ea1-44d7-43ea-dfce-f367eee7f947"
      },
      "source": [
        "!ls"
      ],
      "id": "c1af0dbd",
      "execution_count": null,
      "outputs": [
        {
          "output_type": "stream",
          "name": "stdout",
          "text": [
            "sample_data\n"
          ]
        }
      ]
    },
    {
      "cell_type": "code",
      "metadata": {
        "id": "70de5a87",
        "colab": {
          "base_uri": "https://localhost:8080/"
        },
        "outputId": "aeeaed51-c7b0-446d-df4d-ebcb8dafa22a"
      },
      "source": [
        "cd ..\n"
      ],
      "id": "70de5a87",
      "execution_count": null,
      "outputs": [
        {
          "output_type": "stream",
          "name": "stdout",
          "text": [
            "/\n"
          ]
        }
      ]
    },
    {
      "cell_type": "code",
      "metadata": {
        "id": "7g9xZ3wQANj8"
      },
      "source": [
        "##Test Cell\n",
        "##Producing 10000 averages from 500 Bias Die Tosses\n",
        "import matplotlib.pyplot as plt\n",
        "import random \n",
        "import numpy as np\n",
        "options=[1,2,3,4,5,6]\n",
        "for x in range(10000):\n",
        "  my_list = random.choices(options, weights=[0.25, 0.15, 0.15, 0.15, 0.15, 0.15], k=500)\n",
        "  def average(my_list):\n",
        "    return sum(my_list) / len(my_list)\n",
        "  print(average(my_list))\n",
        "\n"
      ],
      "id": "7g9xZ3wQANj8",
      "execution_count": null,
      "outputs": []
    },
    {
      "cell_type": "code",
      "metadata": {
        "id": "1ca-cAfa8aoX"
      },
      "source": [
        "##Test Cell\n",
        "##Producing 10000 averages from 500 Fair Die tosses\n",
        "import matplotlib.pyplot as plt\n",
        "import random \n",
        "import numpy as np\n",
        "options=[1,2,3,4,5,6]\n",
        "for x in range(10000):\n",
        "  my_list2 = random.choices(options, k=500)\n",
        "  def average(my_list2):\n",
        "    return sum(my_list2) / len(my_list2)\n",
        "  print(average(my_list2))\n",
        "  \n",
        "\n",
        "  \n",
        "\n"
      ],
      "id": "1ca-cAfa8aoX",
      "execution_count": null,
      "outputs": []
    }
  ]
}