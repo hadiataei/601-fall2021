{
 "cells": [
  {
   "cell_type": "markdown",
   "metadata": {
    "id": "1954ba6f"
   },
   "source": [
    "## Homework 2\n",
    "\n",
    "Please complete the functions below. These functions are for to simulate a fair and a biased die. \n",
    "\n",
    "The biased die has probabilities {0.25, 0.15, 0.15, 0.15, 0.15, 0.15}.\n",
    "\n",
    "Create 2 visualizations that shows outcomes of multiple rolls of a fair die and biased die. \n",
    "* Visualization for fair die\n",
    "* Visualization for biased die\n",
    "\n",
    "Repeat the process programatically and take the mean to create a new list. This list will be used to compare means of biased & unbiased dice. \n",
    "* Create a historgram showing means of biased & unbiased die\n",
    "\n",
    "* Use subcharts\n",
    "* All visualizations must have appropriate titles.\n",
    "* There are 3 visualization and expected format is \n",
    "```\n",
    " [V1] [V2]\n",
    " [   V3  ]\n",
    " ```"
   ]
  },
  {
   "cell_type": "code",
   "execution_count": 2,
   "metadata": {
    "colab": {
     "base_uri": "https://localhost:8080/"
    },
    "id": "903cec24",
    "outputId": "df5b38f9-07a1-49fd-da49-dd29a7414607"
   },
   "outputs": [
    {
     "name": "stdout",
     "output_type": "stream",
     "text": [
      "[3, 1, 4, 2, 2, 3, 3, 1, 3, 1, 4, 2, 4, 3, 1, 2, 3, 3, 2, 5, 4, 5, 3, 6, 4, 5, 4, 5, 4, 3, 6, 6, 5, 6, 1, 6, 1, 1, 5, 2, 5, 1, 2, 6, 2, 1, 4, 1, 1, 2, 3, 2, 3, 1, 6, 2, 5, 1, 1, 2, 1, 6, 1, 3, 6, 4, 2, 5, 3, 1, 4, 2, 4, 5, 5, 1, 5, 6, 1, 2, 2, 6, 4, 2, 1, 6, 1, 5, 3, 2, 1, 3, 2, 3, 2, 1, 6, 2, 5, 5, 3, 1, 6, 4, 4, 1, 3, 2, 5, 1, 5, 2, 4, 2, 6, 3, 6, 6, 6, 1, 3, 2, 6, 1, 5, 5, 5, 1, 1, 2, 4, 4, 3, 1, 6, 4, 6, 3, 6, 3, 3, 5, 4, 4, 4, 2, 4, 3, 4, 2, 2, 5, 2, 4, 5, 5, 5, 2, 6, 2, 1, 1, 4, 6, 6, 3, 2, 1, 1, 5, 1, 4, 4, 2, 4, 3, 1, 2, 3, 4, 6, 5, 2, 2, 2, 3, 3, 6, 1, 6, 4, 3, 3, 1, 5, 1, 2, 6, 4, 6, 6, 2, 5, 6, 5, 2, 1, 1, 3, 2, 4, 1, 6, 3, 3, 4, 1, 5, 4, 1, 1, 5, 3, 3, 3, 5, 1, 5, 4, 4, 1, 1, 6, 3, 6, 5, 5, 4, 1, 4, 6, 3, 1, 5, 2, 2, 5, 5, 1, 3, 4, 5, 3, 1, 5, 4, 4, 3, 5, 5, 5, 5, 5, 2, 3, 6, 1, 4, 4, 5, 4, 3, 4, 6, 3, 1, 4, 6, 6, 4, 1, 3, 4, 3, 6, 2, 6, 1, 1, 5, 6, 1, 6, 4, 2, 1, 1, 4, 2, 5, 5, 4, 2, 5, 3, 2, 1, 4, 3, 2, 3, 6, 4, 1, 1, 2, 4, 6, 4, 3, 2, 1, 1, 5, 4, 3, 5, 2, 6, 3, 4, 2, 2, 5, 1, 1, 5, 5, 5, 4, 1, 1, 3, 5, 2, 1, 6, 2, 2, 6, 1, 3, 3, 1, 2, 2, 4, 1, 2, 5, 4, 4, 1, 4, 5, 1, 5, 3, 4, 3, 2, 6, 1, 2, 1, 5, 3, 5, 1, 2, 4, 6, 4, 4, 5, 4, 3, 3, 6, 3, 6, 2, 3, 6, 3, 1, 6, 1, 5, 3, 5, 2, 3, 3, 4, 2, 3, 5, 6, 5, 1, 1, 1, 3, 6, 2, 5, 2, 2, 1, 6, 6, 4, 4, 3, 1, 1, 3, 2, 1, 3, 6, 5, 2, 4, 6, 3, 1, 6, 2, 4, 2, 3, 4, 5, 3, 5, 4, 6, 2, 1, 5, 1, 4, 2, 5, 2, 4, 6, 4, 5, 6, 6, 5, 5, 5, 4, 5, 6, 1, 6, 6, 3, 2, 4, 3, 1, 3, 5, 1, 4, 1, 3, 3, 6, 6, 3, 5, 3, 1, 1, 5, 1, 6, 6, 4, 4, 1, 6, 2]\n"
     ]
    },
    {
     "data": {
      "text/plain": [
       "(array([99.,  0., 80.,  0., 83.,  0., 82.,  0., 82., 74.]),\n",
       " array([1. , 1.5, 2. , 2.5, 3. , 3.5, 4. , 4.5, 5. , 5.5, 6. ]),\n",
       " <a list of 10 Patch objects>)"
      ]
     },
     "execution_count": 2,
     "metadata": {},
     "output_type": "execute_result"
    },
    {
     "data": {
      "image/png": "[encoded data removed]",
      "text/plain": [
       "<Figure size 432x288 with 1 Axes>"
      ]
     },
     "metadata": {
      "needs_background": "light"
     },
     "output_type": "display_data"
    }
   ],
   "source": [
    "from random import randint\n",
    "import matplotlib.pyplot as plt\n",
    "trial_count = 500\n",
    "result1=[]\n",
    "def fair_die_simulation(trials):\n",
    "    \"\"\"\n",
    "    returns an array of randomly numbers between 1 and 6. \n",
    "    \"\"\"\n",
    "    \n",
    "    options = [1,2,3,4,5,6]\n",
    "    simulations = []\n",
    "    for i in range(trials):\n",
    "        a=randint(1,6)\n",
    "        simulations.append(a)\n",
    "    return simulations\n",
    "result1=fair_die_simulation(500)\n",
    "print(result1)\n",
    "plt.hist(result1)"
   ]
  },
  {
   "cell_type": "code",
   "execution_count": 3,
   "metadata": {
    "id": "7bb9fd5e"
   },
   "outputs": [
    {
     "name": "stdout",
     "output_type": "stream",
     "text": [
      "[5, 2, 4, 1, 2, 4, 1, 3, 5, 5, 4, 3, 1, 1, 1, 3, 3, 3, 1, 1, 6, 6, 1, 3, 1, 1, 4, 5, 1, 6, 6, 3, 6, 4, 1, 4, 1, 4, 6, 4, 5, 2, 1, 2, 3, 5, 1, 6, 3, 3, 6, 1, 2, 3, 4, 1, 2, 2, 1, 6, 3, 1, 6, 4, 2, 2, 1, 1, 3, 1, 6, 2, 4, 3, 6, 5, 5, 1, 3, 2, 1, 2, 3, 1, 4, 5, 1, 2, 2, 1, 5, 3, 5, 2, 6, 3, 6, 1, 3, 1, 5, 6, 3, 6, 1, 1, 4, 1, 5, 1, 1, 6, 2, 1, 1, 5, 2, 5, 3, 5, 4, 3, 2, 4, 4, 1, 4, 2, 2, 3, 4, 3, 1, 5, 5, 4, 6, 5, 4, 2, 5, 4, 1, 2, 4, 3, 6, 4, 3, 1, 1, 1, 2, 1, 2, 1, 2, 3, 1, 4, 6, 6, 1, 6, 6, 2, 3, 3, 6, 1, 3, 2, 6, 6, 1, 6, 2, 4, 2, 2, 2, 1, 1, 3, 5, 2, 3, 5, 3, 4, 5, 5, 6, 3, 1, 6, 6, 4, 4, 5, 4, 1, 5, 3, 3, 2, 2, 1, 2, 2, 1, 1, 5, 3, 3, 1, 2, 2, 3, 3, 6, 3, 2, 2, 5, 6, 5, 4, 5, 6, 4, 5, 1, 3, 1, 6, 1, 3, 4, 4, 6, 1, 1, 1, 4, 1, 1, 1, 4, 4, 1, 3, 2, 3, 2, 5, 5, 3, 5, 4, 5, 4, 2, 1, 5, 5, 1, 2, 1, 5, 2, 1, 4, 4, 1, 1, 5, 5, 1, 2, 3, 4, 4, 1, 5, 1, 3, 1, 1, 6, 2, 2, 5, 2, 1, 3, 5, 4, 2, 2, 1, 5, 1, 5, 3, 5, 2, 5, 4, 2, 5, 3, 6, 5, 5, 6, 1, 1, 1, 5, 6, 3, 6, 3, 3, 3, 5, 5, 2, 1, 4, 6, 6, 5, 1, 5, 6, 6, 6, 1, 5, 1, 2, 4, 3, 1, 5, 1, 1, 3, 4, 1, 1, 4, 4, 6, 3, 4, 3, 3, 6, 2, 1, 1, 3, 4, 6, 6, 2, 4, 4, 5, 6, 3, 4, 3, 1, 3, 4, 4, 5, 1, 4, 1, 1, 3, 4, 2, 3, 3, 3, 6, 6, 6, 2, 1, 4, 1, 6, 6, 1, 1, 2, 6, 3, 4, 3, 2, 3, 6, 4, 6, 3, 5, 4, 1, 5, 4, 5, 1, 1, 6, 5, 2, 4, 3, 6, 4, 1, 1, 1, 3, 1, 5, 4, 1, 5, 5, 2, 5, 4, 2, 6, 3, 5, 1, 1, 1, 4, 4, 1, 1, 1, 1, 4, 1, 2, 2, 1, 3, 1, 3, 5, 6, 2, 1, 6, 6, 3, 1, 3, 2, 1, 3, 4, 3, 3, 4, 1, 1, 6, 3, 2, 1, 4, 1, 6, 1, 4, 6, 2, 4, 6, 5, 1, 1, 1, 3, 3, 2]\n"
     ]
    },
    {
     "data": {
      "text/plain": [
       "(array([131.,   0.,  71.,   0.,  85.,   0.,  75.,   0.,  70.,  68.]),\n",
       " array([1. , 1.5, 2. , 2.5, 3. , 3.5, 4. , 4.5, 5. , 5.5, 6. ]),\n",
       " <a list of 10 Patch objects>)"
      ]
     },
     "execution_count": 3,
     "metadata": {},
     "output_type": "execute_result"
    },
    {
     "data": {
      "image/png": "[encoded data removed]",
      "text/plain": [
       "<Figure size 432x288 with 1 Axes>"
      ]
     },
     "metadata": {
      "needs_background": "light"
     },
     "output_type": "display_data"
    }
   ],
   "source": [
    "from numpy.random import choice\n",
    "result2=[]\n",
    "def biased_die_simuations(trials, weights=[0.25, 0.15, 0.15, 0.15, 0.15, 0.15]):\n",
    "    \"\"\"\n",
    "    returns an array of randomly numbers between 1 and 6 with the probabilty of assosiated weight. \n",
    "    for instance: for weights: [0.25, 0.15, 0.15, 0.15, 0.15, 0.15]\n",
    "    1 has 0.25 change to be selected, 2 has 0.15 chance and so on...\n",
    "    \"\"\"\n",
    "    options = [1,2,3,4,5,6]\n",
    "    simulations = []\n",
    "    for i in range(trials):\n",
    "        a = choice(options,p= weights)\n",
    "        simulations.append(a)\n",
    "    return simulations\n",
    "result2=biased_die_simuations(500,[0.25, 0.15, 0.15, 0.15, 0.15, 0.15])\n",
    "print(result2)\n",
    "plt.hist(result2)"
   ]
  },
  {
   "cell_type": "code",
   "execution_count": 4,
   "metadata": {
    "id": "f2b34b06"
   },
   "outputs": [],
   "source": [
    "import numpy as np\n",
    "s = []\n",
    "t = []\n",
    "for i in range(500):\n",
    "    s.append(np.mean(fair_die_simulation(500)))\n",
    "    t.append(np.mean(biased_die_simuations(500,[0.25, 0.15, 0.15, 0.15, 0.15, 0.15])))"
   ]
  },
  {
   "cell_type": "code",
   "execution_count": 5,
   "metadata": {
    "id": "1529520e",
    "scrolled": true
   },
   "outputs": [
    {
     "data": {
      "text/plain": [
       "<matplotlib.legend.Legend at 0x1c6e867e5c8>"
      ]
     },
     "execution_count": 5,
     "metadata": {},
     "output_type": "execute_result"
    },
    {
     "data": {
      "image/png": "[encoded data removed]",
      "text/plain": [
       "<Figure size 720x720 with 3 Axes>"
      ]
     },
     "metadata": {
      "needs_background": "light"
     },
     "output_type": "display_data"
    }
   ],
   "source": [
    "plt.figure(figsize=(10,10))\n",
    "plt.suptitle('All Graphs')\n",
    "plt.subplot(2,2,1)\n",
    "plt.title('Fair Dies Results')\n",
    "plt.hist(result1)\n",
    "plt.xlabel('Dies Value')\n",
    "plt.ylabel('Count')\n",
    "plt.subplot(2,2,2)\n",
    "plt.title('Biased Dies Results')\n",
    "plt.hist(result2)\n",
    "plt.xlabel('Dies Value')\n",
    "plt.ylabel('Count')\n",
    "plt.subplot(2,2,(3,4))\n",
    "plt.title('Mean of both Dies')\n",
    "plt.hist(s, label=\"Fair Dies\")\n",
    "plt.hist(t,color='red',alpha=0.4, label='Biased Dies')\n",
    "plt.xlabel('Means')\n",
    "plt.ylabel('Count')\n",
    "plt.legend()"
   ]
  },
  {
   "cell_type": "code",
   "execution_count": null,
   "metadata": {},
   "outputs": [],
   "source": []
  }
 ],
 "metadata": {
  "colab": {
   "name": "HW-02.ipynb",
   "provenance": []
  },
  "kernelspec": {
   "display_name": "Python 3",
   "language": "python",
   "name": "python3"
  },
  "language_info": {
   "codemirror_mode": {
    "name": "ipython",
    "version": 3
   },
   "file_extension": ".py",
   "mimetype": "text/x-python",
   "name": "python",
   "nbconvert_exporter": "python",
   "pygments_lexer": "ipython3",
   "version": "3.7.4"
  },
  "toc": {
   "base_numbering": 1,
   "nav_menu": {},
   "number_sections": true,
   "sideBar": true,
   "skip_h1_title": false,
   "title_cell": "Table of Contents",
   "title_sidebar": "Contents",
   "toc_cell": false,
   "toc_position": {},
   "toc_section_display": true,
   "toc_window_display": false
  }
 },
 "nbformat": 4,
 "nbformat_minor": 5
}
