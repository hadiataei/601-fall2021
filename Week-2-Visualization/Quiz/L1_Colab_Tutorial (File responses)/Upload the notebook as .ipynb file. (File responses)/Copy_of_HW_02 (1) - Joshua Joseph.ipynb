{
  "nbformat": 4,
  "nbformat_minor": 5,
  "metadata": {
    "kernelspec": {
      "display_name": "Python 3",
      "language": "python",
      "name": "python3"
    },
    "language_info": {
      "codemirror_mode": {
        "name": "ipython",
        "version": 3
      },
      "file_extension": ".py",
      "mimetype": "text/x-python",
      "name": "python",
      "nbconvert_exporter": "python",
      "pygments_lexer": "ipython3",
      "version": "3.8.8"
    },
    "toc": {
      "base_numbering": 1,
      "nav_menu": {},
      "number_sections": true,
      "sideBar": true,
      "skip_h1_title": false,
      "title_cell": "Table of Contents",
      "title_sidebar": "Contents",
      "toc_cell": false,
      "toc_position": {},
      "toc_section_display": true,
      "toc_window_display": false
    },
    "colab": {
      "name": "Copy of HW-02.ipynb",
      "provenance": [],
      "collapsed_sections": []
    }
  },
  "cells": [
    {
      "cell_type": "markdown",
      "metadata": {
        "id": "1954ba6f"
      },
      "source": [
        "## Homework 2\n",
        "\n",
        "Please complete the functions below. These functions are for to simulate a fair and a biased die. \n",
        "\n",
        "The biased die has probabilities {0.25, 0.15, 0.15, 0.15, 0.15, 0.15}.\n",
        "\n",
        "Create 2 visualizations that shows outcomes of multiple rolls of a fair die and biased die. \n",
        "* Visualization for fair die\n",
        "* Visualization for biased die\n",
        "\n",
        "Repeat the process programatically and take the mean to create a new list. This list will be used to compare means of biased & unbiased dice. \n",
        "* Create a historgram showing means of biased & unbiased die\n",
        "\n",
        "* Use subcharts\n",
        "* All visualizations must have appropriate titles.\n",
        "* There are 3 visualization and expected format is \n",
        "```\n",
        " [V1] [V2]\n",
        " [   V3  ]\n",
        " ```"
      ],
      "id": "1954ba6f"
    },
    {
      "cell_type": "code",
      "metadata": {
        "id": "903cec24",
        "colab": {
          "base_uri": "https://localhost:8080/",
          "height": 295
        },
        "outputId": "cadfa3dc-78ee-43e5-8150-c611504d674d"
      },
      "source": [
        "import matplotlib.pyplot as plt\n",
        "import random\n",
        "data = [random.randint(1, 7) for i in range(500)]\n",
        "plt.hist(data)\n",
        "plt.xlabel('dice value')\n",
        "plt.ylabel('frequency')\n",
        "plt.title('Frequency of Dice Value Rolled')\n",
        "plt.show()"
      ],
      "id": "903cec24",
      "execution_count": 47,
      "outputs": [
        {
          "output_type": "display_data",
          "data": {
            "image/png": "[encoded data removed]",
            "text/plain": [
              "<Figure size 432x288 with 1 Axes>"
            ]
          },
          "metadata": {
            "needs_background": "light"
          }
        }
      ]
    },
    {
      "cell_type": "code",
      "metadata": {
        "id": "TeeqYQrZthzw"
      },
      "source": [
        ""
      ],
      "id": "TeeqYQrZthzw",
      "execution_count": null,
      "outputs": []
    },
    {
      "cell_type": "code",
      "metadata": {
        "id": "7bb9fd5e",
        "colab": {
          "base_uri": "https://localhost:8080/",
          "height": 295
        },
        "outputId": "47f9c526-0cc3-47d8-e92f-ab44a421b5db"
      },
      "source": [
        "import matplotlib.pyplot as plt\n",
        "import random\n",
        "\n",
        "sampleList = [1, 2, 3, 4, 5, 6]\n",
        "\n",
        "randomList = random.choices(\n",
        "    sampleList, weights=(250, 150, 150, 150, 150, 150), k = 500)\n",
        "plt.hist(randomList)\n",
        "plt.xlabel('dice value')\n",
        "plt.ylabel('frequency')\n",
        "plt.title('Frequency of Dice Value Rolled')\n",
        "plt.show()\n"
      ],
      "id": "7bb9fd5e",
      "execution_count": null,
      "outputs": [
        {
          "output_type": "display_data",
          "data": {
            "image/png": "[encoded data removed]",
            "text/plain": [
              "<Figure size 432x288 with 1 Axes>"
            ]
          },
          "metadata": {
            "needs_background": "light"
          }
        }
      ]
    },
    {
      "cell_type": "code",
      "metadata": {
        "id": "8567f4a4",
        "colab": {
          "base_uri": "https://localhost:8080/",
          "height": 821
        },
        "outputId": "45c8f3d9-3a0b-45d8-f0ae-af12b69305c6"
      },
      "source": [
        "# graph of mean value of fair dice\n",
        "import matplotlib.pyplot as plt\n",
        "import random\n",
        "data = [random.randint(1, 7) for i in range(500)]\n",
        "average1 = sum(data) / len(data)\n",
        "plt.hist(average1)\n",
        "plt.xlabel('mean value')\n",
        "plt.title('Mean Value of Fair Dice Rolled')\n",
        "plt.show()\n",
        " \n",
        " \n",
        " \n",
        "# graph of mean value of biased dice\n",
        "sampleList = [1, 2, 3, 4, 5, 6]\n",
        "randomList = random.choices(\n",
        "   sampleList, weights=(250, 150, 150, 150, 150, 150), k=500)\n",
        "average2 = sum(randomList) / len(randomList)\n",
        "plt.hist(average2)\n",
        "plt.xlabel('mean value')\n",
        "plt.title('Mean Value of Biased Dice Rolled')\n",
        "plt.show()\n",
        " \n",
        "# graph of mean value of both dice\n",
        "data1 = [random.randint(1, 7) for i in range(500)]\n",
        "average1 = sum(data1) / len(data1)\n",
        "sampleList = [1, 2, 3, 4, 5, 6]\n",
        "randomList = random.choices(\n",
        "   sampleList, weights=(250, 150, 150, 150, 150, 150), k=500)\n",
        "average2 = sum(randomList) / len(randomList)\n",
        "names = [\"mean value of fair dice\",  \"mean value of biased dice\"]\n",
        "values = [average1, average2]\n",
        "plt.ylabel('mean value')\n",
        " \n",
        "plt.bar(names, values, color=['blue', 'red'], width=.5)\n",
        "plt.draw()\n",
        " \n",
        " \n",
        "\n"
      ],
      "id": "8567f4a4",
      "execution_count": 44,
      "outputs": [
        {
          "output_type": "display_data",
          "data": {
            "image/png": "[encoded data removed]",
            "text/plain": [
              "<Figure size 432x288 with 1 Axes>"
            ]
          },
          "metadata": {
            "needs_background": "light"
          }
        },
        {
          "output_type": "display_data",
          "data": {
            "image/png": "[encoded data removed]",
            "text/plain": [
              "<Figure size 432x288 with 1 Axes>"
            ]
          },
          "metadata": {
            "needs_background": "light"
          }
        },
        {
          "output_type": "display_data",
          "data": {
            "image/png": "[encoded data removed]",
            "text/plain": [
              "<Figure size 432x288 with 1 Axes>"
            ]
          },
          "metadata": {
            "needs_background": "light"
          }
        }
      ]
    }
  ]
}