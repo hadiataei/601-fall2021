{
  "nbformat": 4,
  "nbformat_minor": 5,
  "metadata": {
    "kernelspec": {
      "display_name": "Python 3",
      "language": "python",
      "name": "python3"
    },
    "language_info": {
      "codemirror_mode": {
        "name": "ipython",
        "version": 3
      },
      "file_extension": ".py",
      "mimetype": "text/x-python",
      "name": "python",
      "nbconvert_exporter": "python",
      "pygments_lexer": "ipython3",
      "version": "3.8.8"
    },
    "toc": {
      "base_numbering": 1,
      "nav_menu": {},
      "number_sections": true,
      "sideBar": true,
      "skip_h1_title": false,
      "title_cell": "Table of Contents",
      "title_sidebar": "Contents",
      "toc_cell": false,
      "toc_position": {},
      "toc_section_display": true,
      "toc_window_display": false
    },
    "colab": {
      "name": "KentButler-HW-02.ipynb",
      "provenance": [],
      "collapsed_sections": []
    }
  },
  "cells": [
    {
      "cell_type": "markdown",
      "metadata": {
        "id": "1954ba6f"
      },
      "source": [
        "## Homework 2\n",
        "\n",
        "Please complete the functions below. These functions are for to simulate a fair and a biased die. \n",
        "\n",
        "The biased die has probabilities {0.25, 0.15, 0.15, 0.15, 0.15, 0.15}.\n",
        "\n",
        "Create 2 visualizations that shows outcomes of multiple rolls of a fair die and biased die. \n",
        "* Visualization for fair die\n",
        "* Visualization for biased die\n",
        "\n",
        "Repeat the process programatically and take the mean to create a new list. This list will be used to compare means of biased & unbiased dice. \n",
        "* Create a historgram showing means of biased & unbiased die\n",
        "\n",
        "* Use subcharts\n",
        "* All visualizations must have appropriate titles.\n",
        "* There are 3 visualization and expected format is \n",
        "```\n",
        " [V1] [V2]\n",
        " [   V3  ]\n",
        " ```"
      ],
      "id": "1954ba6f"
    },
    {
      "cell_type": "code",
      "metadata": {
        "id": "903cec24"
      },
      "source": [
        "import random\n",
        "import matplotlib.pyplot as plt\n",
        "import statistics as stat\n",
        "\n",
        "trial_count = 500\n",
        "die_options = range(1,7)\n",
        "\n",
        "def fair_die_simulation(trials):\n",
        "    \"\"\"\n",
        "    returns an array of randomly numbers between 1 and 6. \n",
        "    \"\"\"\n",
        "\n",
        "    random.seed()\n",
        "    \n",
        "    simulations = []\n",
        "\n",
        "    for val in range(trials):\n",
        "      simulations.append(random.randrange(die_options.start, die_options.stop, die_options.step))\n",
        "\n",
        "    return simulations\n",
        "\n",
        "#print(fair_die_simulation(20))"
      ],
      "id": "903cec24",
      "execution_count": null,
      "outputs": []
    },
    {
      "cell_type": "code",
      "metadata": {
        "id": "7bb9fd5e"
      },
      "source": [
        "def biased_die_simulation(trials, weights=[0.25, 0.15, 0.15, 0.15, 0.15, 0.15]):\n",
        "    \"\"\"\n",
        "    returns an array of random numbers between 1-6 with given weighted probabilities\n",
        "    of occurance \n",
        "    \"\"\"\n",
        "    \n",
        "    simulations = []\n",
        "    population = []\n",
        "    for val in die_options:\n",
        "      population.append(val)\n",
        "\n",
        "    simulations = random.choices(population, weights, k=trials)\n",
        "\n",
        "    return simulations\n",
        "\n",
        "#print(biased_die_simulation(30, [0.0, 0.75, 0.0, 0.05, 0.05, 0.10]))"
      ],
      "id": "7bb9fd5e",
      "execution_count": null,
      "outputs": []
    },
    {
      "cell_type": "code",
      "metadata": {
        "id": "c163cff2",
        "colab": {
          "base_uri": "https://localhost:8080/",
          "height": 426
        },
        "outputId": "7f90c23e-2bf5-42cf-febb-2b07192f229a"
      },
      "source": [
        "biased = biased_die_simulation(trial_count)\n",
        "fair = fair_die_simulation(trial_count)\n",
        "\n",
        "# visualize individual outcomes\n",
        "#fig, axs = plt.subplots(1, 2, sharey=True, tight_layout=True)\n",
        "plt.figure()\n",
        "plt.suptitle('Histogram of Die Rolls')\n",
        "\n",
        "plt.subplot(1,2,1)\n",
        "plt.hist(fair)\n",
        "plt.xlabel('Fair Die')\n",
        "plt.ylabel('Occurrances')\n",
        "plt.xticks(die_options)\n",
        "\n",
        "plt.subplot(1,2,2)\n",
        "plt.hist(biased)\n",
        "plt.xlabel('Biased Die')\n",
        "plt.xticks(die_options)\n",
        "\n",
        "\n",
        "# biased_mean_list = ...\n",
        "# unbiased_mean_list = ...\n",
        "\n"
      ],
      "id": "c163cff2",
      "execution_count": null,
      "outputs": [
        {
          "output_type": "execute_result",
          "data": {
            "text/plain": [
              "([<matplotlib.axis.XTick at 0x7fc7e90ced90>,\n",
              "  <matplotlib.axis.XTick at 0x7fc7e90ce890>,\n",
              "  <matplotlib.axis.XTick at 0x7fc7e90ceed0>,\n",
              "  <matplotlib.axis.XTick at 0x7fc7e91fc490>,\n",
              "  <matplotlib.axis.XTick at 0x7fc7e91fc750>,\n",
              "  <matplotlib.axis.XTick at 0x7fc7e8ba5a90>],\n",
              " <a list of 6 Text major ticklabel objects>)"
            ]
          },
          "metadata": {},
          "execution_count": 14
        },
        {
          "output_type": "display_data",
          "data": {
            "image/png": "[encoded data removed]",
            "text/plain": [
              "<Figure size 432x288 with 2 Axes>"
            ]
          },
          "metadata": {
            "needs_background": "light"
          }
        }
      ]
    },
    {
      "cell_type": "code",
      "metadata": {
        "colab": {
          "base_uri": "https://localhost:8080/",
          "height": 302
        },
        "id": "tVX9nKmcFUsU",
        "outputId": "acdac914-5ced-4f08-c2a5-aa64510b9e03"
      },
      "source": [
        "# Repeat dice rolls, and average the result of each round\n",
        "# Graph results of the means\n",
        "\n",
        "num_rounds = 25\n",
        "\n",
        "fair_results = []\n",
        "biased_results = []\n",
        "\n",
        "for round_num in range(num_rounds):\n",
        "  # store the average of the roll values\n",
        "  fair_results.append(stat.mean(fair_die_simulation(trial_count)))\n",
        "  biased_results.append(stat.mean(biased_die_simulation(trial_count)))\n",
        "\n",
        "# visualize individual outcomes\n",
        "#fig, axs = plt.subplots(1, 2, sharey=True, tight_layout=True)\n",
        "plt.figure()\n",
        "plt.suptitle('Mean Die Results over Repeated Rounds')\n",
        "\n",
        "plt.subplot(2,2,1)\n",
        "plt.hist(fair_results)\n",
        "plt.xlabel('Mean of Fair Rolls')\n",
        "plt.ylabel('Occurrances')\n",
        "\n",
        "plt.subplot(2,2,2)\n",
        "plt.hist(biased_results)\n",
        "plt.xlabel('Mean of Biased Rolls')\n",
        "\n",
        "plt.subplot(2,2,(3,4))\n",
        "plt.scatter(fair_results, biased_results)\n",
        "plt.title('Fair vs. Biased Means')\n",
        "plt.xlabel('Fair means')\n",
        "plt.ylabel('Biased means')\n",
        "\n",
        "plt.tight_layout()\n",
        "# Workaround for matplotlib bug that overwrites suptitle\n",
        "plt.subplots_adjust(top=0.85)\n",
        "\n"
      ],
      "id": "tVX9nKmcFUsU",
      "execution_count": null,
      "outputs": [
        {
          "output_type": "display_data",
          "data": {
            "image/png": "[encoded data removed]",
            "text/plain": [
              "<Figure size 432x288 with 3 Axes>"
            ]
          },
          "metadata": {
            "needs_background": "light"
          }
        }
      ]
    }
  ]
}