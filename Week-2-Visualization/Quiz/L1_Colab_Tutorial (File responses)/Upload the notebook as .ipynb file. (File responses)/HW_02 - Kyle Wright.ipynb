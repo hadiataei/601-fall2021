{
  "nbformat": 4,
  "nbformat_minor": 5,
  "metadata": {
    "kernelspec": {
      "display_name": "Python 3",
      "language": "python",
      "name": "python3"
    },
    "language_info": {
      "codemirror_mode": {
        "name": "ipython",
        "version": 3
      },
      "file_extension": ".py",
      "mimetype": "text/x-python",
      "name": "python",
      "nbconvert_exporter": "python",
      "pygments_lexer": "ipython3",
      "version": "3.8.8"
    },
    "toc": {
      "base_numbering": 1,
      "nav_menu": {},
      "number_sections": true,
      "sideBar": true,
      "skip_h1_title": false,
      "title_cell": "Table of Contents",
      "title_sidebar": "Contents",
      "toc_cell": false,
      "toc_position": {},
      "toc_section_display": true,
      "toc_window_display": false
    },
    "colab": {
      "name": "HW-02.ipynb",
      "provenance": [],
      "collapsed_sections": []
    }
  },
  "cells": [
    {
      "cell_type": "markdown",
      "metadata": {
        "id": "1954ba6f"
      },
      "source": [
        "## Homework 2\n",
        "\n",
        "Please complete the functions below. These functions are for to simulate a fair and a biased die. \n",
        "\n",
        "The biased die has probabilities {0.25, 0.15, 0.15, 0.15, 0.15, 0.15}.\n",
        "\n",
        "Create 2 visualizations that shows outcomes of multiple rolls of a fair die and biased die. \n",
        "* Visualization for fair die\n",
        "* Visualization for biased die\n",
        "\n",
        "Repeat the process programatically and take the mean to create a new list. This list will be used to compare means of biased & unbiased dice. \n",
        "* Create a historgram showing means of biased & unbiased die\n",
        "\n",
        "* Use subcharts\n",
        "* All visualizations must have appropriate titles.\n",
        "* There are 3 visualization and expected format is \n",
        "```\n",
        " [V1] [V2]\n",
        " [   V3  ]\n",
        " ```"
      ],
      "id": "1954ba6f"
    },
    {
      "cell_type": "code",
      "metadata": {
        "id": "903cec24"
      },
      "source": [
        "import random \n",
        "import matplotlib.pyplot as plt\n",
        "\n",
        "trial_count = 500\n",
        "\n",
        "def fair_die_simulation(trials):\n",
        "    options = [1,2,3,4,5,6]\n",
        "    simulations = []\n",
        "\n",
        "\n",
        "    simulations = [0,0,0,0,0,0]\n",
        "    for i in range(trials):\n",
        "\n",
        "      randNum = random.randint(0,5)\n",
        "      simulations[randNum-1] += 1\n",
        "    \n",
        "\n",
        "    \n",
        "    return simulations\n"
      ],
      "id": "903cec24",
      "execution_count": 2,
      "outputs": []
    },
    {
      "cell_type": "code",
      "metadata": {
        "id": "7bb9fd5e"
      },
      "source": [
        "def biased_die_simuations(trials, weights=[0.25, 0.15, 0.15, 0.15, 0.15, 0.15]):\n",
        "    \n",
        "    options = [1,2,3,4,5,6]\n",
        "    simulations = []\n",
        "\n",
        "    die = [1,1,1,1,1,2,2,2,3,3,3,4,4,4,5,5,5,6,6,6]\n",
        "    simulations = [0,0,0,0,0,0]\n",
        "    for i in range(trials):\n",
        "\n",
        "      randNum = die[random.randint(0,19)]\n",
        "      simulations[randNum-1] += 1\n",
        "    \n",
        "    \n",
        "    return simulations"
      ],
      "id": "7bb9fd5e",
      "execution_count": 3,
      "outputs": []
    },
    {
      "cell_type": "code",
      "metadata": {
        "id": "8567f4a4"
      },
      "source": [
        " "
      ],
      "id": "8567f4a4",
      "execution_count": null,
      "outputs": []
    },
    {
      "cell_type": "code",
      "metadata": {
        "id": "c163cff2",
        "colab": {
          "base_uri": "https://localhost:8080/",
          "height": 299
        },
        "outputId": "ad5fcc41-c614-4dd1-810a-e78887914b72"
      },
      "source": [
        "biased = biased_die_simuations(trial_count)\n",
        "fair = fair_die_simulation(trial_count)\n",
        "\n",
        "\n",
        "# the histogram of the data\n",
        "names = ['1', '2', '3', '4','5','6']\n",
        "\n",
        "#use these when the original two are displayed\n",
        "values1 = fair\n",
        "values2 = biased\n",
        "\n",
        "#create a new variable to hold the results of another simulation\n",
        "new_biased_list = biased_die_simuations(trial_count)\n",
        "new_unbiased_list = fair_die_simulation(trial_count)\n",
        "\n",
        "# loop through the new lists and divide each value (outcomes) by 500 to get the mean\n",
        "for i in range(0,6):\n",
        "  new_biased_list[i] = (new_biased_list[i] / 500)\n",
        "  new_unbiased_list[i] = (new_unbiased_list[i] / 500)\n",
        "\n",
        "biased_mean_list = new_biased_list\n",
        "unbiased_mean_list = new_unbiased_list\n",
        "\n",
        "\n",
        "#Build visulizations on figure\n",
        "plt.subplot(2,2,1)\n",
        "plt.bar(names, values1, color=['red', 'yellow','blue','purple', 'green','black'], log=False, align='center', width=1)\n",
        "plt.title('Fair Die Outcomes')\n",
        "\n",
        "\n",
        "plt.subplot(2,2,2)\n",
        "plt.bar(names, values2, color=['red', 'yellow','blue','purple', 'green','black'], log=False, align='center', width=1)\n",
        "plt.title('Biased Die Outcomes')\n",
        "\n",
        "plt.subplot(3,1,3)\n",
        "plt.bar(names, biased_mean_list, color=['red', 'red','red','red', 'red','red'], log=False, align='center', width=1, alpha = 0.5)\n",
        "plt.bar(names, unbiased_mean_list, color=['blue', 'blue','blue','blue', 'blue','blue'], log=False, align='center', width=1, alpha =0.5)\n",
        "plt.title('Biased vs Fair Die Outcomes (Mean)')\n",
        "\n",
        "\n"
      ],
      "id": "c163cff2",
      "execution_count": 4,
      "outputs": [
        {
          "output_type": "execute_result",
          "data": {
            "text/plain": [
              "Text(0.5, 1.0, 'Biased vs Fair Die Outcomes (Mean)')"
            ]
          },
          "metadata": {},
          "execution_count": 4
        },
        {
          "output_type": "display_data",
          "data": {
            "image/png": "[encoded data removed]",
            "text/plain": [
              "<Figure size 432x288 with 3 Axes>"
            ]
          },
          "metadata": {
            "needs_background": "light"
          }
        }
      ]
    },
    {
      "cell_type": "code",
      "metadata": {
        "id": "c1af0dbd",
        "colab": {
          "base_uri": "https://localhost:8080/"
        },
        "outputId": "2b943ea1-44d7-43ea-dfce-f367eee7f947"
      },
      "source": [
        "!ls"
      ],
      "id": "c1af0dbd",
      "execution_count": null,
      "outputs": [
        {
          "output_type": "stream",
          "name": "stdout",
          "text": [
            "sample_data\n"
          ]
        }
      ]
    },
    {
      "cell_type": "code",
      "metadata": {
        "id": "70de5a87",
        "colab": {
          "base_uri": "https://localhost:8080/"
        },
        "outputId": "aeeaed51-c7b0-446d-df4d-ebcb8dafa22a"
      },
      "source": [
        "cd ..\n"
      ],
      "id": "70de5a87",
      "execution_count": null,
      "outputs": [
        {
          "output_type": "stream",
          "name": "stdout",
          "text": [
            "/\n"
          ]
        }
      ]
    },
    {
      "cell_type": "code",
      "metadata": {
        "id": "f2b34b06"
      },
      "source": [
        ""
      ],
      "id": "f2b34b06",
      "execution_count": null,
      "outputs": []
    },
    {
      "cell_type": "code",
      "metadata": {
        "id": "1529520e"
      },
      "source": [
        ""
      ],
      "id": "1529520e",
      "execution_count": null,
      "outputs": []
    }
  ]
}