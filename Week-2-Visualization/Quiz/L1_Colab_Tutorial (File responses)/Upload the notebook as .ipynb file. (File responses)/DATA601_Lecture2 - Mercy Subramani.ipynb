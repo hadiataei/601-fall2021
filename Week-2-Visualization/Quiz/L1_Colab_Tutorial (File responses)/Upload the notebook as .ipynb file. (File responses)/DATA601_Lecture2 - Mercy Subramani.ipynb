{
  "nbformat": 4,
  "nbformat_minor": 0,
  "metadata": {
    "colab": {
      "name": "DATA601_Lecture2.ipynb",
      "provenance": [],
      "collapsed_sections": []
    },
    "kernelspec": {
      "name": "python3",
      "display_name": "Python 3"
    },
    "language_info": {
      "name": "python"
    }
  },
  "cells": [
    {
      "cell_type": "code",
      "metadata": {
        "id": "GLHIGChGllpU"
      },
      "source": [
        "import random \n",
        "import matplotlib.pyplot as plt\n",
        "\n",
        "trial_count = 500\n",
        "\n",
        "def fair_die_simulation(trials):\n",
        "    \"\"\"\n",
        "    returns an array of randomly numbers between 1 and 6. \n",
        "    \"\"\"\n",
        "    \n",
        "    options = [1,2,3,4,5,6]\n",
        "    simulations = []\n",
        "    return simulations\n",
        "    plt.show()"
      ],
      "execution_count": 50,
      "outputs": []
    },
    {
      "cell_type": "code",
      "metadata": {
        "colab": {
          "base_uri": "https://localhost:8080/",
          "height": 282
        },
        "id": "5jl7p3pfrR2r",
        "outputId": "e43f1b6c-78d0-4451-d89e-2b62d6c60d5e"
      },
      "source": [
        "plt.plot(trial_count)"
      ],
      "execution_count": 46,
      "outputs": [
        {
          "output_type": "execute_result",
          "data": {
            "text/plain": [
              "[<matplotlib.lines.Line2D at 0x7f2a810641d0>]"
            ]
          },
          "metadata": {},
          "execution_count": 46
        },
        {
          "output_type": "display_data",
          "data": {
            "image/png": "[encoded data removed]",
            "text/plain": [
              "<Figure size 432x288 with 1 Axes>"
            ]
          },
          "metadata": {
            "needs_background": "light"
          }
        }
      ]
    },
    {
      "cell_type": "code",
      "metadata": {
        "id": "7-J1OgZymPnD"
      },
      "source": [
        "def biased_die_simuations(trials, weights=[0.25, 0.15, 0.15, 0.15, 0.15, 0.15]):\n",
        "    \"\"\"\n",
        "    returns an array of randomly numbers between 1 and 6 with the probabilty of assosiated weight. \n",
        "    for instance: for weights: [0.25, 0.15, 0.15, 0.15, 0.15, 0.15]\n",
        "    1 has 0.25 change to be selected, 2 has 0.15 chance and so on...\n",
        "    \"\"\"\n",
        "    \n",
        "    options = [1,2,3,4,5]\n",
        "    simulations = []\n",
        "    return simulations\n",
        "    plt.boxplot(np.random.randn([0.25, 0.15, 0.15, 0.15, 0.15, 0.15]))\n",
        "    plt.show()"
      ],
      "execution_count": 34,
      "outputs": []
    },
    {
      "cell_type": "code",
      "metadata": {
        "colab": {
          "base_uri": "https://localhost:8080/",
          "height": 282
        },
        "id": "PlYXMnU8rVNf",
        "outputId": "bf904785-31b1-499f-92d7-29e20df5412a"
      },
      "source": [
        "plt.plot([1, 2, 3, 4 , 5, 6])"
      ],
      "execution_count": 51,
      "outputs": [
        {
          "output_type": "execute_result",
          "data": {
            "text/plain": [
              "[<matplotlib.lines.Line2D at 0x7f2a8871fdd0>]"
            ]
          },
          "metadata": {},
          "execution_count": 51
        },
        {
          "output_type": "display_data",
          "data": {
            "image/png": "[encoded data removed]",
            "text/plain": [
              "<Figure size 432x288 with 1 Axes>"
            ]
          },
          "metadata": {
            "needs_background": "light"
          }
        }
      ]
    },
    {
      "cell_type": "code",
      "metadata": {
        "colab": {
          "base_uri": "https://localhost:8080/",
          "height": 282
        },
        "id": "RvIla7a-r9T0",
        "outputId": "69395335-4001-4ea8-f123-0e7fb67e492a"
      },
      "source": [
        "plt.plot([0.25, 0.15, 0.15, 0.15, 0.15, 0.15])"
      ],
      "execution_count": 52,
      "outputs": [
        {
          "output_type": "execute_result",
          "data": {
            "text/plain": [
              "[<matplotlib.lines.Line2D at 0x7f2a80fa8b50>]"
            ]
          },
          "metadata": {},
          "execution_count": 52
        },
        {
          "output_type": "display_data",
          "data": {
            "image/png": "[encoded data removed]",
            "text/plain": [
              "<Figure size 432x288 with 1 Axes>"
            ]
          },
          "metadata": {
            "needs_background": "light"
          }
        }
      ]
    },
    {
      "cell_type": "code",
      "metadata": {
        "id": "tEn-ictjqN8I"
      },
      "source": [
        "biased = biased_die_simuations(trial_count)\n",
        "fair = fair_die_simulation(trial_count)"
      ],
      "execution_count": 35,
      "outputs": []
    },
    {
      "cell_type": "code",
      "metadata": {
        "colab": {
          "base_uri": "https://localhost:8080/",
          "height": 296
        },
        "id": "H6R_R4LwqS-I",
        "outputId": "a7c75d7b-b9dc-4dc6-a5e1-4e43543dd1c1"
      },
      "source": [
        "plt.hist(biased,fair)\n",
        "plt.xlabel('fair')\n",
        "plt.ylabel('biased')"
      ],
      "execution_count": 54,
      "outputs": [
        {
          "output_type": "execute_result",
          "data": {
            "text/plain": [
              "Text(0, 0.5, 'biased')"
            ]
          },
          "metadata": {},
          "execution_count": 54
        },
        {
          "output_type": "display_data",
          "data": {
            "image/png": "[encoded data removed]",
            "text/plain": [
              "<Figure size 432x288 with 1 Axes>"
            ]
          },
          "metadata": {
            "needs_background": "light"
          }
        }
      ]
    }
  ]
}