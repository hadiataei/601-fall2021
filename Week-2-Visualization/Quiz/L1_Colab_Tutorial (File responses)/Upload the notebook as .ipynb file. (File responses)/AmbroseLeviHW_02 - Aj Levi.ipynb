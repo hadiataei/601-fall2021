{
  "nbformat": 4,
  "nbformat_minor": 5,
  "metadata": {
    "kernelspec": {
      "display_name": "Python 3",
      "language": "python",
      "name": "python3"
    },
    "language_info": {
      "codemirror_mode": {
        "name": "ipython",
        "version": 3
      },
      "file_extension": ".py",
      "mimetype": "text/x-python",
      "name": "python",
      "nbconvert_exporter": "python",
      "pygments_lexer": "ipython3",
      "version": "3.8.8"
    },
    "toc": {
      "base_numbering": 1,
      "nav_menu": {},
      "number_sections": true,
      "sideBar": true,
      "skip_h1_title": false,
      "title_cell": "Table of Contents",
      "title_sidebar": "Contents",
      "toc_cell": false,
      "toc_position": {},
      "toc_section_display": true,
      "toc_window_display": false
    },
    "colab": {
      "name": "AmbroseLeviHW-02.ipynb",
      "provenance": [],
      "collapsed_sections": [],
      "toc_visible": true
    }
  },
  "cells": [
    {
      "cell_type": "markdown",
      "metadata": {
        "id": "1954ba6f"
      },
      "source": [
        "## Homework 2\n",
        "\n",
        "Please complete the functions below. These functions are for to simulate a fair and a biased die. \n",
        "\n",
        "The biased die has probabilities {0.25, 0.15, 0.15, 0.15, 0.15, 0.15}.\n",
        "\n",
        "Create 2 visualizations that shows outcomes of multiple rolls of a fair die and biased die. \n",
        "* Visualization for fair die\n",
        "* Visualization for biased die\n",
        "\n",
        "Repeat the process programatically and take the mean to create a new list. This list will be used to compare means of biased & unbiased dice. \n",
        "* Create a historgram showing means of biased & unbiased die\n",
        "\n",
        "* Use subcharts\n",
        "* All visualizations must have appropriate titles.\n",
        "* There are 3 visualization and expected format is \n",
        "```\n",
        " [V1] [V2]\n",
        " [   V3  ]\n",
        " ```"
      ],
      "id": "1954ba6f"
    },
    {
      "cell_type": "code",
      "metadata": {
        "id": "903cec24"
      },
      "source": [
        "import random \n",
        "import matplotlib.pyplot as plt\n",
        "\n",
        "trial_count = 500\n",
        "\n",
        "def fair_die_simulation(trials):\n",
        "    \"\"\"\n",
        "    returns an array of randomly numbers between 1 and 6. \n",
        "    \n",
        "    \"\"\"\n",
        "    simulations = []\n",
        "    for i in range(trials):\n",
        "      p = random.randrange(1,7)\n",
        "      simulations.append(p)\n",
        "    \n",
        "    #options = [1,2,3,4,5,6]\n",
        "    \n",
        "    return simulations"
      ],
      "id": "903cec24",
      "execution_count": 43,
      "outputs": []
    },
    {
      "cell_type": "code",
      "metadata": {
        "id": "0yMHOfxKPpdu"
      },
      "source": [
        "simulations = fair_die_simulation(trial_count)\n",
        "value_counts = []\n",
        "for i in range(6):\n",
        "  value_counts.append(simulations.count(i+1))\n",
        "  "
      ],
      "id": "0yMHOfxKPpdu",
      "execution_count": 118,
      "outputs": []
    },
    {
      "cell_type": "code",
      "metadata": {
        "colab": {
          "base_uri": "https://localhost:8080/",
          "height": 282
        },
        "id": "73dqskx5RdPy",
        "outputId": "618f8d7f-f4e0-4e30-cf8f-fb46ebf107f4"
      },
      "source": [
        "plt.bar([1,2,3,4,5,6],value_counts)"
      ],
      "id": "73dqskx5RdPy",
      "execution_count": 119,
      "outputs": [
        {
          "output_type": "execute_result",
          "data": {
            "text/plain": [
              "<BarContainer object of 6 artists>"
            ]
          },
          "metadata": {},
          "execution_count": 119
        },
        {
          "output_type": "display_data",
          "data": {
            "image/png": "[encoded data removed]",
            "text/plain": [
              "<Figure size 432x288 with 1 Axes>"
            ]
          },
          "metadata": {
            "needs_background": "light"
          }
        }
      ]
    },
    {
      "cell_type": "code",
      "metadata": {
        "colab": {
          "base_uri": "https://localhost:8080/",
          "height": 316
        },
        "id": "DIGISQd0OiwN",
        "outputId": "e95684b0-5085-43bc-9837-4bcc6fc01470"
      },
      "source": [
        "plt.hist(simulations, bins=range(min(simulations),max(simulations)))"
      ],
      "id": "DIGISQd0OiwN",
      "execution_count": 120,
      "outputs": [
        {
          "output_type": "execute_result",
          "data": {
            "text/plain": [
              "(array([ 78.,  77.,  85., 162.]),\n",
              " array([1, 2, 3, 4, 5]),\n",
              " <a list of 4 Patch objects>)"
            ]
          },
          "metadata": {},
          "execution_count": 120
        },
        {
          "output_type": "display_data",
          "data": {
            "image/png": "[encoded data removed]",
            "text/plain": [
              "<Figure size 432x288 with 1 Axes>"
            ]
          },
          "metadata": {
            "needs_background": "light"
          }
        }
      ]
    },
    {
      "cell_type": "code",
      "metadata": {
        "colab": {
          "base_uri": "https://localhost:8080/",
          "height": 452
        },
        "id": "BJ3lea75XNRb",
        "outputId": "c8d5c4f7-d8dd-4f33-aff8-222ccd9deff4"
      },
      "source": [
        "plt.pie(value_counts,labels=[1,2,3,4,5,6])"
      ],
      "id": "BJ3lea75XNRb",
      "execution_count": 121,
      "outputs": [
        {
          "output_type": "execute_result",
          "data": {
            "text/plain": [
              "([<matplotlib.patches.Wedge at 0x7fb257dc8590>,\n",
              "  <matplotlib.patches.Wedge at 0x7fb257dc89d0>,\n",
              "  <matplotlib.patches.Wedge at 0x7fb257dd3150>,\n",
              "  <matplotlib.patches.Wedge at 0x7fb257dd3790>,\n",
              "  <matplotlib.patches.Wedge at 0x7fb257dda0d0>,\n",
              "  <matplotlib.patches.Wedge at 0x7fb257dda790>],\n",
              " [Text(0.9705203438428753, 0.5177743351954666, '1'),\n",
              "  Text(0.11727225045112066, 1.0937308715009053, '2'),\n",
              "  Text(-0.8691705275003083, 0.6741977411151984, '3'),\n",
              "  Text(-0.9832255636109514, -0.49322154359063364, '4'),\n",
              "  Text(-0.0966363063570592, -1.0957469709260732, '5'),\n",
              "  Text(0.8979731860201302, -0.6353299593037123, '6')])"
            ]
          },
          "metadata": {},
          "execution_count": 121
        },
        {
          "output_type": "display_data",
          "data": {
            "image/png": "[encoded data removed]",
            "text/plain": [
              "<Figure size 432x288 with 1 Axes>"
            ]
          },
          "metadata": {}
        }
      ]
    },
    {
      "cell_type": "code",
      "metadata": {
        "id": "7bb9fd5e"
      },
      "source": [
        "def biased_die_simuations(trials, weights=[0.25, 0.15, 0.15, 0.15, 0.15, 0.15]):\n",
        "    \"\"\"\n",
        "    returns an array of randomly numbers between 1 and 6 with the probabilty of assosiated weight. \n",
        "    for instance: for weights: [0.25, 0.15, 0.15, 0.15, 0.15, 0.15]\n",
        "    1 has 0.25 change to be selected, 2 has 0.15 chance and so on...\n",
        "    \"\"\"\n",
        "    simulations = []\n",
        "    for i in range(trials):\n",
        "      randRoll = random.random()\n",
        "      sum = 0\n",
        "      if randRoll<weights[0]:\n",
        "        result = 1\n",
        "        continue\n",
        "      elif randRoll<weights[1]:\n",
        "\n",
        "        result = 2\n",
        "        continue\n",
        "      elif randRoll<weights[2]:\n",
        "        result = 3\n",
        "        continue\n",
        "      elif randRoll<weights[3]:\n",
        "        result = 4\n",
        "        continue\n",
        "      elif randRoll<weights[4]:\n",
        "        result = 5\n",
        "        continue\n",
        "      else:\n",
        "        result = 6 \n",
        "      simulations.append(result)\n",
        "    \n",
        "    options = [1,2,3,4,5,6]\n",
        "    \n",
        "    return simulations"
      ],
      "id": "7bb9fd5e",
      "execution_count": 122,
      "outputs": []
    },
    {
      "cell_type": "code",
      "metadata": {
        "id": "8567f4a4"
      },
      "source": [
        " biased_simulations = biased_die_simuations(trial_count,[0.25, 0.15, 0.15, 0.15, 0.15, 0.15])"
      ],
      "id": "8567f4a4",
      "execution_count": 123,
      "outputs": []
    },
    {
      "cell_type": "code",
      "metadata": {
        "id": "c163cff2"
      },
      "source": [
        "biased = biased_die_simuations(trial_count)\n",
        "fair = fair_die_simulation(trial_count)\n",
        "\n",
        "biased_mean_list = sum(biased)/trial_count\n",
        "unbiased_mean_list = sum(fair)/trial_count"
      ],
      "id": "c163cff2",
      "execution_count": 124,
      "outputs": []
    },
    {
      "cell_type": "code",
      "metadata": {
        "id": "c1af0dbd",
        "colab": {
          "base_uri": "https://localhost:8080/"
        },
        "outputId": "9ea65e02-73cc-4143-cdca-51d687e27069"
      },
      "source": [
        "import random\n",
        "sampleMassDist = (0.2, 0.1, 0.15, 0.15, 0.25, 0.15)\n",
        "# assume sum of bias is 1\n",
        "def roll(massDist):\n",
        "    randRoll = random.random() # in [0,1]\n",
        "    sum = 0\n",
        "    result = 1\n",
        "    for mass in massDist:\n",
        "        sum += mass\n",
        "        if randRoll < sum:\n",
        "            return result\n",
        "        result+=1\n",
        "\n",
        "print(roll(sampleMassDist))"
      ],
      "id": "c1af0dbd",
      "execution_count": 125,
      "outputs": [
        {
          "output_type": "stream",
          "name": "stdout",
          "text": [
            "4\n"
          ]
        }
      ]
    },
    {
      "cell_type": "code",
      "metadata": {
        "id": "70de5a87",
        "colab": {
          "base_uri": "https://localhost:8080/"
        },
        "outputId": "89ab3d1b-0f27-473f-f482-59c49dddec90"
      },
      "source": [
        "roll(sampleMassDist)\n"
      ],
      "id": "70de5a87",
      "execution_count": 126,
      "outputs": [
        {
          "output_type": "execute_result",
          "data": {
            "text/plain": [
              "4"
            ]
          },
          "metadata": {},
          "execution_count": 126
        }
      ]
    },
    {
      "cell_type": "code",
      "metadata": {
        "id": "f2b34b06",
        "colab": {
          "base_uri": "https://localhost:8080/"
        },
        "outputId": "12724eb2-9a6f-41b3-c417-c96738665d34"
      },
      "source": [
        "random.random()"
      ],
      "id": "f2b34b06",
      "execution_count": 127,
      "outputs": [
        {
          "output_type": "execute_result",
          "data": {
            "text/plain": [
              "0.981733639545556"
            ]
          },
          "metadata": {},
          "execution_count": 127
        }
      ]
    },
    {
      "cell_type": "code",
      "metadata": {
        "id": "1529520e",
        "colab": {
          "base_uri": "https://localhost:8080/",
          "height": 362
        },
        "outputId": "4b14def9-e383-48d1-c158-b6df875ae9d5"
      },
      "source": [
        "biased_die = [1,2,1,1,1,1]\n",
        "unbiased_die = [1,2,3,4,5,6]\n",
        "#print(unbiased_die[random.randint(0,len(unbiased_die)-1)])\n",
        "\n",
        "def randomRolls(die,roll_count):\n",
        "  roll_outcome = []\n",
        "  for i in range(roll_count):\n",
        "    roll_outcome.append(die[random.randint(0,len(die)-1)])\n",
        "  return roll_outcome\n",
        "\n",
        "roll_attempts = 10\n",
        "multiple_biased_die_roll = randomRolls(biased_die,roll_attempts)\n",
        "multiple_unbiased_die_roll = randomRolls(unbiased_die,roll_attempts)\n",
        "\n",
        "bd = multiple_biased_die_roll\n",
        "ud = multiple_unbiased_die_roll\n",
        "\n",
        "plt.figure()\n",
        "plt.subplot(2,2,1)\n",
        "plt.title('Unbiased Die Results')\n",
        "plt.ylabel('Occurrence')\n",
        "plt.xlabel('Die Number')\n",
        "plt.bar([1,2,3,4,5,6],[ud.count(1),ud.count(2),ud.count(3),ud.count(4),ud.count(5),ud.count(6)])\n",
        "plt.subplot(2,2,2)\n",
        "plt.title('Biased Die Results')\n",
        "plt.ylabel('Occurrence')\n",
        "plt.xlabel('Die Number')\n",
        "plt.bar([1,2,3,4,5,6],[bd.count(1),bd.count(2),bd.count(3),bd.count(4),bd.count(5),bd.count(6)])\n",
        "plt.subplot(2,2,(3,4))\n",
        "plt.tight_layout()\n",
        "plt.title('Biased Vs UnBiased Mean')\n",
        "plt.xlabel('Mean(Chance That Number was rolled in biased and unbiased rolls)')\n",
        "plt.hist([sum(bd)/roll_attempts,sum(ud)/roll_attempts],facecolor='blue', edgecolor='black')"
      ],
      "id": "1529520e",
      "execution_count": 159,
      "outputs": [
        {
          "output_type": "execute_result",
          "data": {
            "text/plain": [
              "(array([1., 0., 0., 0., 0., 0., 0., 0., 0., 1.]),\n",
              " array([1.3 , 1.44, 1.58, 1.72, 1.86, 2.  , 2.14, 2.28, 2.42, 2.56, 2.7 ]),\n",
              " <a list of 10 Patch objects>)"
            ]
          },
          "metadata": {},
          "execution_count": 159
        },
        {
          "output_type": "display_data",
          "data": {
            "image/png": "[encoded data removed]",
            "text/plain": [
              "<Figure size 432x288 with 3 Axes>"
            ]
          },
          "metadata": {
            "needs_background": "light"
          }
        }
      ]
    }
  ]
}