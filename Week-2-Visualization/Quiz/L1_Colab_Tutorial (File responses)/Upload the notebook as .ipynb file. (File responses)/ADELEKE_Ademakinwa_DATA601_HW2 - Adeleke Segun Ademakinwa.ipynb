{
  "nbformat": 4,
  "nbformat_minor": 0,
  "metadata": {
    "colab": {
      "name": "ADELEKE_Ademakinwa_DATA601_HW2.ipynb",
      "provenance": [],
      "collapsed_sections": []
    },
    "kernelspec": {
      "name": "python3",
      "display_name": "Python 3"
    },
    "language_info": {
      "name": "python"
    }
  },
  "cells": [
    {
      "cell_type": "code",
      "metadata": {
        "id": "fG3DQg_Op1Ro"
      },
      "source": [
        ""
      ],
      "execution_count": null,
      "outputs": []
    },
    {
      "cell_type": "code",
      "metadata": {
        "colab": {
          "base_uri": "https://localhost:8080/"
        },
        "id": "GHKQO-JzUuU8",
        "outputId": "17e890a7-e06f-4f04-ca7f-db3df1784225"
      },
      "source": [
        "from google.colab import drive\n",
        "drive.mount('/content/gdrive')"
      ],
      "execution_count": null,
      "outputs": [
        {
          "output_type": "stream",
          "name": "stdout",
          "text": [
            "Mounted at /content/gdrive\n"
          ]
        }
      ]
    },
    {
      "cell_type": "code",
      "metadata": {
        "id": "gp-AWbozp4np"
      },
      "source": [
        ""
      ],
      "execution_count": null,
      "outputs": []
    },
    {
      "cell_type": "markdown",
      "metadata": {
        "id": "oRcfhA7aRoMl"
      },
      "source": [
        "## Homework 2\n",
        "\n",
        "Please complete the functions below. These functions are for to simulate a fair and a biased die. \n",
        "\n",
        "The biased die has probabilities {0.25, 0.15, 0.15, 0.15, 0.15, 0.15}.\n",
        "\n",
        "Create 2 visualizations that shows outcomes of multiple rolls of a fair die and biased die. \n",
        "* Visualization for fair die\n",
        "* Visualization for biased die\n",
        "\n",
        "Repeat the process programatically and take the mean to create a new list. This list will be used to compare means of biased & unbiased dice. \n",
        "* Create a historgram showing means of biased & unbiased die\n",
        "\n",
        "* Use subcharts\n",
        "* All visualizations must have appropriate titles.\n",
        "* There are 3 visualization and expected format is \n",
        "```\n",
        " [V1] [V2]\n",
        " [   V3  ]\n",
        " ```"
      ]
    },
    {
      "cell_type": "code",
      "metadata": {
        "id": "BOvE_CJWrMdC"
      },
      "source": [
        "import random \n",
        "import matplotlib.pyplot as plt\n",
        "import numpy as np\n",
        "\n",
        "trial_count = 500\n",
        "\n",
        "def fair_die_simulation(trials):\n",
        "    \"\"\"\n",
        "    returns an array of randomly numbers between 1 and 6. \n",
        "    \"\"\"\n",
        "    simulations = []\n",
        "    for i in range(trials):\n",
        "      p = random.randrange(1,7)\n",
        "      simulations.append(p)\n",
        "    \n",
        "    #options = [1,2,3,4,5,6]\n",
        "    return simulations"
      ],
      "execution_count": null,
      "outputs": []
    },
    {
      "cell_type": "code",
      "metadata": {
        "id": "mPV7m6EcrTIO"
      },
      "source": [
        "np.mean(fair_die_simulation(8))\n",
        "\n",
        "mean_unbiased=[4.25,3.5,4.125,3.875,4.375,3.125,3.375,2.5,3.25,3.625]\n"
      ],
      "execution_count": null,
      "outputs": []
    },
    {
      "cell_type": "code",
      "metadata": {
        "id": "LeulyNwwrWLa"
      },
      "source": [
        "simulations = fair_die_simulation(trial_count)\n",
        "value_counts = []\n",
        "for i in range(6):\n",
        "  value_counts.append(simulations.count(i+1))"
      ],
      "execution_count": null,
      "outputs": []
    },
    {
      "cell_type": "code",
      "metadata": {
        "colab": {
          "base_uri": "https://localhost:8080/",
          "height": 458
        },
        "id": "EEKhDhusrbpl",
        "outputId": "5d70a714-6793-46ad-9cab-b18aa6ede890"
      },
      "source": [
        "\n",
        "\n",
        "plt.figure(figsize=(10,7))\n",
        "plt.subplot(2,2,1)\n",
        "plt.bar([1,2,3,4,5,6],value_counts)\n",
        "plt.ylabel(\"value_counts\")\n",
        "plt.xlabel(\"value\")\n",
        "plt.title(\"VISUALIZATION ONE (1) FOR A FAIR DIE\", fontsize=8)\n",
        "\n",
        "\n",
        "\n",
        "\n",
        "\n",
        "plt.subplot(2,2,2)\n",
        "plt.pie(value_counts,labels=[1,2,3,4,5,6])\n",
        "plt.title(\"VISUALIZATION TWO (2) FOR A FAIR DIE\")\n",
        "\n",
        "plt.subplot(2,2,(3,4))\n",
        "plt.hist(mean_unbiased)\n",
        "plt.title(\"HISTOGRAM SHOWING MEAN OF UNBIASED DIE\")\n",
        "plt.xlabel(\"umbiased mean\")\n",
        "plt.ylabel(\"count\")\n",
        "\n",
        "plt.show()"
      ],
      "execution_count": null,
      "outputs": [
        {
          "output_type": "display_data",
          "data": {
            "image/png": "[encoded data removed]",
            "text/plain": [
              "<Figure size 720x504 with 3 Axes>"
            ]
          },
          "metadata": {
            "needs_background": "light"
          }
        }
      ]
    },
    {
      "cell_type": "code",
      "metadata": {
        "id": "7Yn9XRhHreZU"
      },
      "source": [
        "def biased_die_simuations(trials, weights=[0.25, 0.15, 0.15, 0.15, 0.15, 0.15]):\n",
        "    \"\"\"\n",
        "    returns an array of randomly numbers between 1 and 6 with the probabilty of assosiated weight. \n",
        "    for instance: for weights: [0.25, 0.15, 0.15, 0.15, 0.15, 0.15]\n",
        "    1 has 0.25 change to be selected, 2 has 0.15 chance and so on...\n",
        "    \"\"\"\n",
        "    simulations = []\n",
        "    #for i in range(trials):\n",
        "    i = 0\n",
        "    while i < trials:\n",
        "      randRoll = random.random()\n",
        "      \n",
        "      sum = 0\n",
        "      if randRoll<weights[0]:\n",
        "        result = 1\n",
        "        i+=1\n",
        "        simulations.append(result)\n",
        "        continue\n",
        "      elif randRoll<weights[0] + weights[1]: #  0.25 < randRoll <0.4\n",
        "\n",
        "        result = 2\n",
        "        i+=1\n",
        "        simulations.append(result)\n",
        "        continue\n",
        "      elif randRoll<weights[0]+weights[1]+weights[2]: # 0.4<randRoll<0.55\n",
        "        result = 3\n",
        "        i+=1\n",
        "        simulations.append(result)\n",
        "        continue\n",
        "      elif randRoll<weights[0]+weights[1]+weights[2]+weights[3]: #0.55<  < 0.7\n",
        "        result = 4\n",
        "        i+=1\n",
        "        simulations.append(result)\n",
        "        continue\n",
        "      elif randRoll<weights[0]+weights[1]+weights[2]+weights[3]+weights[4]: #0.7 <    < 0.85\n",
        "        result = 5\n",
        "        i+=1\n",
        "        simulations.append(result)\n",
        "        continue\n",
        "      else:\n",
        "        result = 6\n",
        "        simulations.append(result) \n",
        "        continue\n",
        "      \n",
        "    \n",
        "    options = [1,2,3,4,5,6]\n",
        "    \n",
        "    return simulations"
      ],
      "execution_count": null,
      "outputs": []
    },
    {
      "cell_type": "code",
      "metadata": {
        "id": "AbTElI8SrlBn"
      },
      "source": [
        "np.mean(biased_die_simuations(8))\n",
        "\n",
        "\n",
        "mean_biased=[3.4,3.222,2.75,3.44,3.69,2.75,3.45,3.66,4.3,2.63,3.77]"
      ],
      "execution_count": null,
      "outputs": []
    },
    {
      "cell_type": "code",
      "metadata": {
        "id": "wBO_tN_JrovW"
      },
      "source": [
        "biased_simulations = biased_die_simuations(trial_count,[0.25, 0.15, 0.15, 0.15, 0.15, 0.15])"
      ],
      "execution_count": null,
      "outputs": []
    },
    {
      "cell_type": "code",
      "metadata": {
        "id": "RSL78WI7rqaK"
      },
      "source": [
        "biased = biased_die_simuations(trial_count)\n",
        "fair = fair_die_simulation(trial_count)\n",
        "biased_mean_list = mean_biased     ## calculated above\n",
        "unbiased_mean_list =mean_unbiased   ## calculated above"
      ],
      "execution_count": null,
      "outputs": []
    },
    {
      "cell_type": "code",
      "metadata": {
        "id": "lDukHq68sETT"
      },
      "source": [
        ""
      ],
      "execution_count": null,
      "outputs": []
    },
    {
      "cell_type": "code",
      "metadata": {
        "colab": {
          "base_uri": "https://localhost:8080/",
          "height": 312
        },
        "id": "A4mPxAPYjGKM",
        "outputId": "4723f381-6c64-4e00-8402-036711164a82"
      },
      "source": [
        "biased_value_counts = []\n",
        "for i in range(6):\n",
        "  biased_value_counts.append(biased_simulations.count(i+1))\n",
        "plt.bar([1,2,3,4,5,6],biased_value_counts)\n",
        "plt.title(\"VISUALIZATION ONE (1) FOR BIASED DIE\")\n",
        "plt.xlabel(\"value\")\n",
        "plt.ylabel(\"biased_value_counts\")"
      ],
      "execution_count": null,
      "outputs": [
        {
          "output_type": "execute_result",
          "data": {
            "text/plain": [
              "Text(0, 0.5, 'biased_value_counts')"
            ]
          },
          "metadata": {},
          "execution_count": 13
        },
        {
          "output_type": "display_data",
          "data": {
            "image/png": "[encoded data removed]",
            "text/plain": [
              "<Figure size 432x288 with 1 Axes>"
            ]
          },
          "metadata": {
            "needs_background": "light"
          }
        }
      ]
    },
    {
      "cell_type": "code",
      "metadata": {
        "colab": {
          "base_uri": "https://localhost:8080/"
        },
        "id": "yTQVkYJ3rx_j",
        "outputId": "bee1e390-6022-4fa3-e438-4cee74af24d1"
      },
      "source": [
        "biased_simulations.count(2)"
      ],
      "execution_count": null,
      "outputs": [
        {
          "output_type": "execute_result",
          "data": {
            "text/plain": [
              "81"
            ]
          },
          "metadata": {},
          "execution_count": 11
        }
      ]
    },
    {
      "cell_type": "code",
      "metadata": {
        "colab": {
          "base_uri": "https://localhost:8080/",
          "height": 458
        },
        "id": "hf1yjLkir2-F",
        "outputId": "f88eb663-03e4-4250-aa90-f63c6eaf99cc"
      },
      "source": [
        "\n",
        "\n",
        "plt.figure(figsize=(10,7))\n",
        "plt.subplot(2,2,1)\n",
        "plt.bar([1,2,3,4,5,6],biased_value_counts)\n",
        "plt.title(\"VISUALIZATION ONE (1) FOR BIASED DIE\")\n",
        "plt.xlabel(\"value\")\n",
        "plt.ylabel(\"biased_value_counts\")\n",
        "\n",
        "\n",
        "\n",
        "\n",
        "\n",
        "plt.subplot(2,2,2)\n",
        "plt.pie(biased_value_counts,labels=[1,2,3,4,5,6])\n",
        "plt.title(\"VISUALIZATION TWO (2) FOR A BIASED DIE\")\n",
        "plt.subplot(2,2,(3,4))\n",
        "plt.hist(mean_biased)\n",
        "plt.title(\"HISTOGRAM SHOWING MEAN OF BIASED DIE\")\n",
        "plt.ylabel(\"Counts\")\n",
        "plt.xlabel(\"biasedMean\")\n",
        "plt.ylabel(\"count\")\n",
        "\n",
        "plt.show()"
      ],
      "execution_count": null,
      "outputs": [
        {
          "output_type": "display_data",
          "data": {
            "image/png": "[encoded data removed]",
            "text/plain": [
              "<Figure size 720x504 with 3 Axes>"
            ]
          },
          "metadata": {
            "needs_background": "light"
          }
        }
      ]
    }
  ]
}